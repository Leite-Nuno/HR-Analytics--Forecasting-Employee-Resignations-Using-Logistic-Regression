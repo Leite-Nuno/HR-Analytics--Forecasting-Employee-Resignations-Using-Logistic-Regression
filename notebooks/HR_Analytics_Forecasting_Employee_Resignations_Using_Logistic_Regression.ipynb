{
 "cells": [
  {
   "cell_type": "markdown",
   "id": "cb03c6c2-d14b-4fca-bd24-895e3813c0bc",
   "metadata": {},
   "source": [
    "# 📁 Dataset Dictionary\n",
    "\n",
    "---\n",
    "\n",
    "- `Education`: Education level of the employees  \n",
    "- `JoiningYear`: Year the employee joined the company  \n",
    "- `City`: City where the employee is located  \n",
    "- `PaymentTier`: Employee's salary tier in Indian Rupees  \n",
    "| **Class**      | **Salary Range (₹/month)** | **Notes**      |\n",
    "|----------------|-----------------------------|----------------|\n",
    "| **1 - Entry**  | ₹9,000 – ₹15,000             |                |\n",
    "| **2 - Mid**    | ₹14,001 – ₹30,000            |                |\n",
    "| **3 - High**   | ₹30,001 and above            |                |\n",
    "- `Age`: Age of the employee  \n",
    "- `EverBenched`: Categorical variable indicating whether the employee was ever on the bench (without tasks)  \n",
    "- `ExperienceInCurrentDomain`: Experience in the current domain (in years)  \n",
    "- `LeaveOrNot`: Target variable. Indicates whether the employee voluntarily resigned or not\n",
    "__`Feature Engineering´__\n",
    "- `YearsAtCompany`: Represents the number of years an employee has been with the company as of 2019. It is calculated by subtracting the employee's joining year (JoiningYear) from the reference year (2018). This feature reflects the employee's tenure and is useful for analyzing experience or length of service within the organization.\n",
    "\n",
    "\n",
    "\n",
    "    "
   ]
  },
  {
   "cell_type": "markdown",
   "id": "5b5583ae-01d3-4337-81c1-a925db471dce",
   "metadata": {},
   "source": [
    "<div style=\"background-color:#f2f2f2; padding: 14px; border-radius: 12px; text-align: center; font-family: 'Segoe UI', Tahoma, Geneva, Verdana, sans-serif; font-size: 18px;\">\n",
    "  <strong>Imported Libraries</strong>\n",
    "</div>\n"
   ]
  },
  {
   "cell_type": "code",
   "execution_count": 1,
   "id": "d995a886-5d93-4380-bcce-36af3d349479",
   "metadata": {},
   "outputs": [],
   "source": [
    "import pandas as pd\n",
    "import numpy as np\n",
    "import matplotlib.pyplot as plt\n",
    "import seaborn as sns\n",
    "import squarify\n",
    "from datetime import datetime\n",
    "\n",
    "\n",
    "################################################# MODELS ##################################################\n",
    "\n",
    "import sklearn\n",
    "from sklearn.model_selection import train_test_split\n",
    "from sklearn.preprocessing import StandardScaler, OneHotEncoder\n",
    "from sklearn.compose import ColumnTransformer\n",
    "from sklearn.pipeline import Pipeline\n",
    "from sklearn.impute import KNNImputer\n",
    "from sklearn.impute import SimpleImputer\n",
    "from sklearn.linear_model import LogisticRegression\n",
    "from sklearn.metrics import accuracy_score"
   ]
  },
  {
   "cell_type": "code",
   "execution_count": 2,
   "id": "b083ce2b-0cf0-4aef-b1e6-6c9dca81e9cd",
   "metadata": {},
   "outputs": [
    {
     "name": "stdout",
     "output_type": "stream",
     "text": [
      "Author: Nuno Leite\n",
      "\n"
     ]
    }
   ],
   "source": [
    "%reload_ext watermark\n",
    "%watermark -a \"Nuno Leite\""
   ]
  },
  {
   "cell_type": "code",
   "execution_count": 3,
   "id": "cf03e66c-19e3-4580-8c3e-56acfe7f7eab",
   "metadata": {},
   "outputs": [],
   "source": [
    "df = pd.read_csv(\n",
    "    r\"C:\\Users\\nuno_\\Downloads\\Employee.csv\"\n",
    ")"
   ]
  },
  {
   "cell_type": "code",
   "execution_count": 4,
   "id": "bce35a4c-588b-4863-ba25-60d22fda0052",
   "metadata": {},
   "outputs": [
    {
     "data": {
      "text/html": [
       "<style type=\"text/css\">\n",
       "#T_58b39_row0_col0, #T_58b39_row0_col1, #T_58b39_row0_col2, #T_58b39_row0_col3, #T_58b39_row0_col4, #T_58b39_row0_col5, #T_58b39_row0_col6, #T_58b39_row0_col7, #T_58b39_row0_col8, #T_58b39_row1_col0, #T_58b39_row1_col1, #T_58b39_row1_col2, #T_58b39_row1_col3, #T_58b39_row1_col4, #T_58b39_row1_col5, #T_58b39_row1_col6, #T_58b39_row1_col7, #T_58b39_row1_col8, #T_58b39_row2_col0, #T_58b39_row2_col1, #T_58b39_row2_col2, #T_58b39_row2_col3, #T_58b39_row2_col4, #T_58b39_row2_col5, #T_58b39_row2_col6, #T_58b39_row2_col7, #T_58b39_row2_col8, #T_58b39_row3_col0, #T_58b39_row3_col1, #T_58b39_row3_col2, #T_58b39_row3_col3, #T_58b39_row3_col4, #T_58b39_row3_col5, #T_58b39_row3_col6, #T_58b39_row3_col7, #T_58b39_row3_col8, #T_58b39_row4_col0, #T_58b39_row4_col1, #T_58b39_row4_col2, #T_58b39_row4_col3, #T_58b39_row4_col4, #T_58b39_row4_col5, #T_58b39_row4_col6, #T_58b39_row4_col7, #T_58b39_row4_col8, #T_58b39_row5_col0, #T_58b39_row5_col1, #T_58b39_row5_col2, #T_58b39_row5_col3, #T_58b39_row5_col4, #T_58b39_row5_col5, #T_58b39_row5_col6, #T_58b39_row5_col7, #T_58b39_row5_col8, #T_58b39_row6_col0, #T_58b39_row6_col1, #T_58b39_row6_col2, #T_58b39_row6_col3, #T_58b39_row6_col4, #T_58b39_row6_col5, #T_58b39_row6_col6, #T_58b39_row6_col7, #T_58b39_row6_col8, #T_58b39_row7_col0, #T_58b39_row7_col1, #T_58b39_row7_col2, #T_58b39_row7_col3, #T_58b39_row7_col4, #T_58b39_row7_col5, #T_58b39_row7_col6, #T_58b39_row7_col7, #T_58b39_row7_col8, #T_58b39_row8_col0, #T_58b39_row8_col1, #T_58b39_row8_col2, #T_58b39_row8_col3, #T_58b39_row8_col4, #T_58b39_row8_col5, #T_58b39_row8_col6, #T_58b39_row8_col7, #T_58b39_row8_col8, #T_58b39_row9_col0, #T_58b39_row9_col1, #T_58b39_row9_col2, #T_58b39_row9_col3, #T_58b39_row9_col4, #T_58b39_row9_col5, #T_58b39_row9_col6, #T_58b39_row9_col7, #T_58b39_row9_col8 {\n",
       "  background-color: black;\n",
       "  color: lawngreen;\n",
       "  border: 1.5px  solid white;\n",
       "}\n",
       "</style>\n",
       "<table id=\"T_58b39\">\n",
       "  <caption>Employee Dataframe</caption>\n",
       "  <thead>\n",
       "    <tr>\n",
       "      <th class=\"blank level0\" >&nbsp;</th>\n",
       "      <th id=\"T_58b39_level0_col0\" class=\"col_heading level0 col0\" >Education</th>\n",
       "      <th id=\"T_58b39_level0_col1\" class=\"col_heading level0 col1\" >JoiningYear</th>\n",
       "      <th id=\"T_58b39_level0_col2\" class=\"col_heading level0 col2\" >City</th>\n",
       "      <th id=\"T_58b39_level0_col3\" class=\"col_heading level0 col3\" >PaymentTier</th>\n",
       "      <th id=\"T_58b39_level0_col4\" class=\"col_heading level0 col4\" >Age</th>\n",
       "      <th id=\"T_58b39_level0_col5\" class=\"col_heading level0 col5\" >Gender</th>\n",
       "      <th id=\"T_58b39_level0_col6\" class=\"col_heading level0 col6\" >EverBenched</th>\n",
       "      <th id=\"T_58b39_level0_col7\" class=\"col_heading level0 col7\" >ExperienceInCurrentDomain</th>\n",
       "      <th id=\"T_58b39_level0_col8\" class=\"col_heading level0 col8\" >LeaveOrNot</th>\n",
       "    </tr>\n",
       "  </thead>\n",
       "  <tbody>\n",
       "    <tr>\n",
       "      <th id=\"T_58b39_level0_row0\" class=\"row_heading level0 row0\" >0</th>\n",
       "      <td id=\"T_58b39_row0_col0\" class=\"data row0 col0\" >Bachelors</td>\n",
       "      <td id=\"T_58b39_row0_col1\" class=\"data row0 col1\" >2017</td>\n",
       "      <td id=\"T_58b39_row0_col2\" class=\"data row0 col2\" >Bangalore</td>\n",
       "      <td id=\"T_58b39_row0_col3\" class=\"data row0 col3\" >3</td>\n",
       "      <td id=\"T_58b39_row0_col4\" class=\"data row0 col4\" >34</td>\n",
       "      <td id=\"T_58b39_row0_col5\" class=\"data row0 col5\" >Male</td>\n",
       "      <td id=\"T_58b39_row0_col6\" class=\"data row0 col6\" >No</td>\n",
       "      <td id=\"T_58b39_row0_col7\" class=\"data row0 col7\" >0</td>\n",
       "      <td id=\"T_58b39_row0_col8\" class=\"data row0 col8\" >0</td>\n",
       "    </tr>\n",
       "    <tr>\n",
       "      <th id=\"T_58b39_level0_row1\" class=\"row_heading level0 row1\" >1</th>\n",
       "      <td id=\"T_58b39_row1_col0\" class=\"data row1 col0\" >Bachelors</td>\n",
       "      <td id=\"T_58b39_row1_col1\" class=\"data row1 col1\" >2013</td>\n",
       "      <td id=\"T_58b39_row1_col2\" class=\"data row1 col2\" >Pune</td>\n",
       "      <td id=\"T_58b39_row1_col3\" class=\"data row1 col3\" >1</td>\n",
       "      <td id=\"T_58b39_row1_col4\" class=\"data row1 col4\" >28</td>\n",
       "      <td id=\"T_58b39_row1_col5\" class=\"data row1 col5\" >Female</td>\n",
       "      <td id=\"T_58b39_row1_col6\" class=\"data row1 col6\" >No</td>\n",
       "      <td id=\"T_58b39_row1_col7\" class=\"data row1 col7\" >3</td>\n",
       "      <td id=\"T_58b39_row1_col8\" class=\"data row1 col8\" >1</td>\n",
       "    </tr>\n",
       "    <tr>\n",
       "      <th id=\"T_58b39_level0_row2\" class=\"row_heading level0 row2\" >2</th>\n",
       "      <td id=\"T_58b39_row2_col0\" class=\"data row2 col0\" >Bachelors</td>\n",
       "      <td id=\"T_58b39_row2_col1\" class=\"data row2 col1\" >2014</td>\n",
       "      <td id=\"T_58b39_row2_col2\" class=\"data row2 col2\" >New Delhi</td>\n",
       "      <td id=\"T_58b39_row2_col3\" class=\"data row2 col3\" >3</td>\n",
       "      <td id=\"T_58b39_row2_col4\" class=\"data row2 col4\" >38</td>\n",
       "      <td id=\"T_58b39_row2_col5\" class=\"data row2 col5\" >Female</td>\n",
       "      <td id=\"T_58b39_row2_col6\" class=\"data row2 col6\" >No</td>\n",
       "      <td id=\"T_58b39_row2_col7\" class=\"data row2 col7\" >2</td>\n",
       "      <td id=\"T_58b39_row2_col8\" class=\"data row2 col8\" >0</td>\n",
       "    </tr>\n",
       "    <tr>\n",
       "      <th id=\"T_58b39_level0_row3\" class=\"row_heading level0 row3\" >3</th>\n",
       "      <td id=\"T_58b39_row3_col0\" class=\"data row3 col0\" >Masters</td>\n",
       "      <td id=\"T_58b39_row3_col1\" class=\"data row3 col1\" >2016</td>\n",
       "      <td id=\"T_58b39_row3_col2\" class=\"data row3 col2\" >Bangalore</td>\n",
       "      <td id=\"T_58b39_row3_col3\" class=\"data row3 col3\" >3</td>\n",
       "      <td id=\"T_58b39_row3_col4\" class=\"data row3 col4\" >27</td>\n",
       "      <td id=\"T_58b39_row3_col5\" class=\"data row3 col5\" >Male</td>\n",
       "      <td id=\"T_58b39_row3_col6\" class=\"data row3 col6\" >No</td>\n",
       "      <td id=\"T_58b39_row3_col7\" class=\"data row3 col7\" >5</td>\n",
       "      <td id=\"T_58b39_row3_col8\" class=\"data row3 col8\" >1</td>\n",
       "    </tr>\n",
       "    <tr>\n",
       "      <th id=\"T_58b39_level0_row4\" class=\"row_heading level0 row4\" >4</th>\n",
       "      <td id=\"T_58b39_row4_col0\" class=\"data row4 col0\" >Masters</td>\n",
       "      <td id=\"T_58b39_row4_col1\" class=\"data row4 col1\" >2017</td>\n",
       "      <td id=\"T_58b39_row4_col2\" class=\"data row4 col2\" >Pune</td>\n",
       "      <td id=\"T_58b39_row4_col3\" class=\"data row4 col3\" >3</td>\n",
       "      <td id=\"T_58b39_row4_col4\" class=\"data row4 col4\" >24</td>\n",
       "      <td id=\"T_58b39_row4_col5\" class=\"data row4 col5\" >Male</td>\n",
       "      <td id=\"T_58b39_row4_col6\" class=\"data row4 col6\" >Yes</td>\n",
       "      <td id=\"T_58b39_row4_col7\" class=\"data row4 col7\" >2</td>\n",
       "      <td id=\"T_58b39_row4_col8\" class=\"data row4 col8\" >1</td>\n",
       "    </tr>\n",
       "    <tr>\n",
       "      <th id=\"T_58b39_level0_row5\" class=\"row_heading level0 row5\" >5</th>\n",
       "      <td id=\"T_58b39_row5_col0\" class=\"data row5 col0\" >Bachelors</td>\n",
       "      <td id=\"T_58b39_row5_col1\" class=\"data row5 col1\" >2016</td>\n",
       "      <td id=\"T_58b39_row5_col2\" class=\"data row5 col2\" >Bangalore</td>\n",
       "      <td id=\"T_58b39_row5_col3\" class=\"data row5 col3\" >3</td>\n",
       "      <td id=\"T_58b39_row5_col4\" class=\"data row5 col4\" >22</td>\n",
       "      <td id=\"T_58b39_row5_col5\" class=\"data row5 col5\" >Male</td>\n",
       "      <td id=\"T_58b39_row5_col6\" class=\"data row5 col6\" >No</td>\n",
       "      <td id=\"T_58b39_row5_col7\" class=\"data row5 col7\" >0</td>\n",
       "      <td id=\"T_58b39_row5_col8\" class=\"data row5 col8\" >0</td>\n",
       "    </tr>\n",
       "    <tr>\n",
       "      <th id=\"T_58b39_level0_row6\" class=\"row_heading level0 row6\" >6</th>\n",
       "      <td id=\"T_58b39_row6_col0\" class=\"data row6 col0\" >Bachelors</td>\n",
       "      <td id=\"T_58b39_row6_col1\" class=\"data row6 col1\" >2015</td>\n",
       "      <td id=\"T_58b39_row6_col2\" class=\"data row6 col2\" >New Delhi</td>\n",
       "      <td id=\"T_58b39_row6_col3\" class=\"data row6 col3\" >3</td>\n",
       "      <td id=\"T_58b39_row6_col4\" class=\"data row6 col4\" >38</td>\n",
       "      <td id=\"T_58b39_row6_col5\" class=\"data row6 col5\" >Male</td>\n",
       "      <td id=\"T_58b39_row6_col6\" class=\"data row6 col6\" >No</td>\n",
       "      <td id=\"T_58b39_row6_col7\" class=\"data row6 col7\" >0</td>\n",
       "      <td id=\"T_58b39_row6_col8\" class=\"data row6 col8\" >0</td>\n",
       "    </tr>\n",
       "    <tr>\n",
       "      <th id=\"T_58b39_level0_row7\" class=\"row_heading level0 row7\" >7</th>\n",
       "      <td id=\"T_58b39_row7_col0\" class=\"data row7 col0\" >Bachelors</td>\n",
       "      <td id=\"T_58b39_row7_col1\" class=\"data row7 col1\" >2016</td>\n",
       "      <td id=\"T_58b39_row7_col2\" class=\"data row7 col2\" >Bangalore</td>\n",
       "      <td id=\"T_58b39_row7_col3\" class=\"data row7 col3\" >3</td>\n",
       "      <td id=\"T_58b39_row7_col4\" class=\"data row7 col4\" >34</td>\n",
       "      <td id=\"T_58b39_row7_col5\" class=\"data row7 col5\" >Female</td>\n",
       "      <td id=\"T_58b39_row7_col6\" class=\"data row7 col6\" >No</td>\n",
       "      <td id=\"T_58b39_row7_col7\" class=\"data row7 col7\" >2</td>\n",
       "      <td id=\"T_58b39_row7_col8\" class=\"data row7 col8\" >1</td>\n",
       "    </tr>\n",
       "    <tr>\n",
       "      <th id=\"T_58b39_level0_row8\" class=\"row_heading level0 row8\" >8</th>\n",
       "      <td id=\"T_58b39_row8_col0\" class=\"data row8 col0\" >Bachelors</td>\n",
       "      <td id=\"T_58b39_row8_col1\" class=\"data row8 col1\" >2016</td>\n",
       "      <td id=\"T_58b39_row8_col2\" class=\"data row8 col2\" >Pune</td>\n",
       "      <td id=\"T_58b39_row8_col3\" class=\"data row8 col3\" >3</td>\n",
       "      <td id=\"T_58b39_row8_col4\" class=\"data row8 col4\" >23</td>\n",
       "      <td id=\"T_58b39_row8_col5\" class=\"data row8 col5\" >Male</td>\n",
       "      <td id=\"T_58b39_row8_col6\" class=\"data row8 col6\" >No</td>\n",
       "      <td id=\"T_58b39_row8_col7\" class=\"data row8 col7\" >1</td>\n",
       "      <td id=\"T_58b39_row8_col8\" class=\"data row8 col8\" >0</td>\n",
       "    </tr>\n",
       "    <tr>\n",
       "      <th id=\"T_58b39_level0_row9\" class=\"row_heading level0 row9\" >9</th>\n",
       "      <td id=\"T_58b39_row9_col0\" class=\"data row9 col0\" >Masters</td>\n",
       "      <td id=\"T_58b39_row9_col1\" class=\"data row9 col1\" >2017</td>\n",
       "      <td id=\"T_58b39_row9_col2\" class=\"data row9 col2\" >New Delhi</td>\n",
       "      <td id=\"T_58b39_row9_col3\" class=\"data row9 col3\" >2</td>\n",
       "      <td id=\"T_58b39_row9_col4\" class=\"data row9 col4\" >37</td>\n",
       "      <td id=\"T_58b39_row9_col5\" class=\"data row9 col5\" >Male</td>\n",
       "      <td id=\"T_58b39_row9_col6\" class=\"data row9 col6\" >No</td>\n",
       "      <td id=\"T_58b39_row9_col7\" class=\"data row9 col7\" >2</td>\n",
       "      <td id=\"T_58b39_row9_col8\" class=\"data row9 col8\" >0</td>\n",
       "    </tr>\n",
       "  </tbody>\n",
       "</table>\n"
      ],
      "text/plain": [
       "<pandas.io.formats.style.Styler at 0x27ce7a25fa0>"
      ]
     },
     "execution_count": 4,
     "metadata": {},
     "output_type": "execute_result"
    }
   ],
   "source": [
    "df.head(10).style.set_caption(\"Employee Dataframe\").set_properties(**{'background-color': 'black',\n",
    "                           'color': 'lawngreen','border': '1.5px  solid white'})"
   ]
  },
  {
   "cell_type": "code",
   "execution_count": 9,
   "id": "d8409654-d15d-4732-affc-5c4bb7602ebd",
   "metadata": {},
   "outputs": [
    {
     "data": {
      "text/plain": [
       "(4653, 9)"
      ]
     },
     "execution_count": 9,
     "metadata": {},
     "output_type": "execute_result"
    }
   ],
   "source": [
    "df.shape\n"
   ]
  },
  {
   "cell_type": "code",
   "execution_count": 11,
   "id": "3ee7e479-7807-4993-a5fb-bf875bbf066b",
   "metadata": {},
   "outputs": [
    {
     "name": "stdout",
     "output_type": "stream",
     "text": [
      "<class 'pandas.core.frame.DataFrame'>\n",
      "RangeIndex: 4653 entries, 0 to 4652\n",
      "Data columns (total 9 columns):\n",
      " #   Column                     Non-Null Count  Dtype \n",
      "---  ------                     --------------  ----- \n",
      " 0   Education                  4653 non-null   object\n",
      " 1   JoiningYear                4653 non-null   int64 \n",
      " 2   City                       4653 non-null   object\n",
      " 3   PaymentTier                4653 non-null   int64 \n",
      " 4   Age                        4653 non-null   int64 \n",
      " 5   Gender                     4653 non-null   object\n",
      " 6   EverBenched                4653 non-null   object\n",
      " 7   ExperienceInCurrentDomain  4653 non-null   int64 \n",
      " 8   LeaveOrNot                 4653 non-null   int64 \n",
      "dtypes: int64(5), object(4)\n",
      "memory usage: 327.3+ KB\n"
     ]
    }
   ],
   "source": [
    "df.info()\n"
   ]
  },
  {
   "cell_type": "code",
   "execution_count": 13,
   "id": "133c0ade-cd2b-47e6-9f44-f527e597e5c7",
   "metadata": {},
   "outputs": [
    {
     "data": {
      "text/html": [
       "<div>\n",
       "<style scoped>\n",
       "    .dataframe tbody tr th:only-of-type {\n",
       "        vertical-align: middle;\n",
       "    }\n",
       "\n",
       "    .dataframe tbody tr th {\n",
       "        vertical-align: top;\n",
       "    }\n",
       "\n",
       "    .dataframe thead th {\n",
       "        text-align: right;\n",
       "    }\n",
       "</style>\n",
       "<table border=\"1\" class=\"dataframe\">\n",
       "  <thead>\n",
       "    <tr style=\"text-align: right;\">\n",
       "      <th></th>\n",
       "      <th>count</th>\n",
       "      <th>mean</th>\n",
       "      <th>std</th>\n",
       "      <th>min</th>\n",
       "      <th>25%</th>\n",
       "      <th>50%</th>\n",
       "      <th>75%</th>\n",
       "      <th>max</th>\n",
       "    </tr>\n",
       "  </thead>\n",
       "  <tbody>\n",
       "    <tr>\n",
       "      <th>JoiningYear</th>\n",
       "      <td>4653.0</td>\n",
       "      <td>2015.062970</td>\n",
       "      <td>1.863377</td>\n",
       "      <td>2012.0</td>\n",
       "      <td>2013.0</td>\n",
       "      <td>2015.0</td>\n",
       "      <td>2017.0</td>\n",
       "      <td>2018.0</td>\n",
       "    </tr>\n",
       "    <tr>\n",
       "      <th>PaymentTier</th>\n",
       "      <td>4653.0</td>\n",
       "      <td>2.698259</td>\n",
       "      <td>0.561435</td>\n",
       "      <td>1.0</td>\n",
       "      <td>3.0</td>\n",
       "      <td>3.0</td>\n",
       "      <td>3.0</td>\n",
       "      <td>3.0</td>\n",
       "    </tr>\n",
       "    <tr>\n",
       "      <th>Age</th>\n",
       "      <td>4653.0</td>\n",
       "      <td>29.393295</td>\n",
       "      <td>4.826087</td>\n",
       "      <td>22.0</td>\n",
       "      <td>26.0</td>\n",
       "      <td>28.0</td>\n",
       "      <td>32.0</td>\n",
       "      <td>41.0</td>\n",
       "    </tr>\n",
       "    <tr>\n",
       "      <th>ExperienceInCurrentDomain</th>\n",
       "      <td>4653.0</td>\n",
       "      <td>2.905652</td>\n",
       "      <td>1.558240</td>\n",
       "      <td>0.0</td>\n",
       "      <td>2.0</td>\n",
       "      <td>3.0</td>\n",
       "      <td>4.0</td>\n",
       "      <td>7.0</td>\n",
       "    </tr>\n",
       "    <tr>\n",
       "      <th>LeaveOrNot</th>\n",
       "      <td>4653.0</td>\n",
       "      <td>0.343864</td>\n",
       "      <td>0.475047</td>\n",
       "      <td>0.0</td>\n",
       "      <td>0.0</td>\n",
       "      <td>0.0</td>\n",
       "      <td>1.0</td>\n",
       "      <td>1.0</td>\n",
       "    </tr>\n",
       "  </tbody>\n",
       "</table>\n",
       "</div>"
      ],
      "text/plain": [
       "                            count         mean       std     min     25%  \\\n",
       "JoiningYear                4653.0  2015.062970  1.863377  2012.0  2013.0   \n",
       "PaymentTier                4653.0     2.698259  0.561435     1.0     3.0   \n",
       "Age                        4653.0    29.393295  4.826087    22.0    26.0   \n",
       "ExperienceInCurrentDomain  4653.0     2.905652  1.558240     0.0     2.0   \n",
       "LeaveOrNot                 4653.0     0.343864  0.475047     0.0     0.0   \n",
       "\n",
       "                              50%     75%     max  \n",
       "JoiningYear                2015.0  2017.0  2018.0  \n",
       "PaymentTier                   3.0     3.0     3.0  \n",
       "Age                          28.0    32.0    41.0  \n",
       "ExperienceInCurrentDomain     3.0     4.0     7.0  \n",
       "LeaveOrNot                    0.0     1.0     1.0  "
      ]
     },
     "execution_count": 13,
     "metadata": {},
     "output_type": "execute_result"
    }
   ],
   "source": [
    "df.describe().T"
   ]
  },
  {
   "cell_type": "code",
   "execution_count": 15,
   "id": "8423e1c0-19a1-4afb-a3c8-c081adc64217",
   "metadata": {},
   "outputs": [
    {
     "name": "stdout",
     "output_type": "stream",
     "text": [
      "Education - 3\n",
      "JoiningYear - 7\n",
      "City - 3\n",
      "PaymentTier - 3\n",
      "Age - 20\n",
      "Gender - 2\n",
      "EverBenched - 2\n",
      "ExperienceInCurrentDomain - 8\n",
      "LeaveOrNot - 2\n"
     ]
    }
   ],
   "source": [
    "for i in df:\n",
    "    print(i,\"-\",df[i].nunique())"
   ]
  },
  {
   "cell_type": "markdown",
   "id": "882c2a2a-24f9-46c7-a64b-b849f5e99b3d",
   "metadata": {},
   "source": [
    "## Feature Engineering - replace 'JoiningYear' for 'YearsAtCompany'"
   ]
  },
  {
   "cell_type": "code",
   "execution_count": 18,
   "id": "cd2d3c57-19df-4f89-9c54-b66c0b14fcb5",
   "metadata": {},
   "outputs": [],
   "source": [
    "df['JoiningYear'] = df['JoiningYear'].astype(int)\n",
    "\n",
    "actual_year = 2018\n",
    "\n",
    "df['YearsAtCompany'] = actual_year - df['JoiningYear']\n",
    "\n",
    "df.drop(['JoiningYear'], axis=1, inplace=True)"
   ]
  },
  {
   "cell_type": "code",
   "execution_count": 20,
   "id": "6a95ff78-00eb-41ae-a205-2b13635f5137",
   "metadata": {},
   "outputs": [
    {
     "data": {
      "text/html": [
       "<style type=\"text/css\">\n",
       "#T_496e2_row0_col0, #T_496e2_row0_col1, #T_496e2_row0_col2, #T_496e2_row0_col3, #T_496e2_row0_col4, #T_496e2_row0_col5, #T_496e2_row0_col6, #T_496e2_row0_col7, #T_496e2_row0_col8, #T_496e2_row1_col0, #T_496e2_row1_col1, #T_496e2_row1_col2, #T_496e2_row1_col3, #T_496e2_row1_col4, #T_496e2_row1_col5, #T_496e2_row1_col6, #T_496e2_row1_col7, #T_496e2_row1_col8, #T_496e2_row2_col0, #T_496e2_row2_col1, #T_496e2_row2_col2, #T_496e2_row2_col3, #T_496e2_row2_col4, #T_496e2_row2_col5, #T_496e2_row2_col6, #T_496e2_row2_col7, #T_496e2_row2_col8, #T_496e2_row3_col0, #T_496e2_row3_col1, #T_496e2_row3_col2, #T_496e2_row3_col3, #T_496e2_row3_col4, #T_496e2_row3_col5, #T_496e2_row3_col6, #T_496e2_row3_col7, #T_496e2_row3_col8, #T_496e2_row4_col0, #T_496e2_row4_col1, #T_496e2_row4_col2, #T_496e2_row4_col3, #T_496e2_row4_col4, #T_496e2_row4_col5, #T_496e2_row4_col6, #T_496e2_row4_col7, #T_496e2_row4_col8, #T_496e2_row5_col0, #T_496e2_row5_col1, #T_496e2_row5_col2, #T_496e2_row5_col3, #T_496e2_row5_col4, #T_496e2_row5_col5, #T_496e2_row5_col6, #T_496e2_row5_col7, #T_496e2_row5_col8, #T_496e2_row6_col0, #T_496e2_row6_col1, #T_496e2_row6_col2, #T_496e2_row6_col3, #T_496e2_row6_col4, #T_496e2_row6_col5, #T_496e2_row6_col6, #T_496e2_row6_col7, #T_496e2_row6_col8, #T_496e2_row7_col0, #T_496e2_row7_col1, #T_496e2_row7_col2, #T_496e2_row7_col3, #T_496e2_row7_col4, #T_496e2_row7_col5, #T_496e2_row7_col6, #T_496e2_row7_col7, #T_496e2_row7_col8, #T_496e2_row8_col0, #T_496e2_row8_col1, #T_496e2_row8_col2, #T_496e2_row8_col3, #T_496e2_row8_col4, #T_496e2_row8_col5, #T_496e2_row8_col6, #T_496e2_row8_col7, #T_496e2_row8_col8, #T_496e2_row9_col0, #T_496e2_row9_col1, #T_496e2_row9_col2, #T_496e2_row9_col3, #T_496e2_row9_col4, #T_496e2_row9_col5, #T_496e2_row9_col6, #T_496e2_row9_col7, #T_496e2_row9_col8 {\n",
       "  background-color: black;\n",
       "  color: lawngreen;\n",
       "  border: 1.5px  solid white;\n",
       "}\n",
       "</style>\n",
       "<table id=\"T_496e2\">\n",
       "  <caption>Employee Dataframe</caption>\n",
       "  <thead>\n",
       "    <tr>\n",
       "      <th class=\"blank level0\" >&nbsp;</th>\n",
       "      <th id=\"T_496e2_level0_col0\" class=\"col_heading level0 col0\" >Education</th>\n",
       "      <th id=\"T_496e2_level0_col1\" class=\"col_heading level0 col1\" >City</th>\n",
       "      <th id=\"T_496e2_level0_col2\" class=\"col_heading level0 col2\" >PaymentTier</th>\n",
       "      <th id=\"T_496e2_level0_col3\" class=\"col_heading level0 col3\" >Age</th>\n",
       "      <th id=\"T_496e2_level0_col4\" class=\"col_heading level0 col4\" >Gender</th>\n",
       "      <th id=\"T_496e2_level0_col5\" class=\"col_heading level0 col5\" >EverBenched</th>\n",
       "      <th id=\"T_496e2_level0_col6\" class=\"col_heading level0 col6\" >ExperienceInCurrentDomain</th>\n",
       "      <th id=\"T_496e2_level0_col7\" class=\"col_heading level0 col7\" >LeaveOrNot</th>\n",
       "      <th id=\"T_496e2_level0_col8\" class=\"col_heading level0 col8\" >YearsAtCompany</th>\n",
       "    </tr>\n",
       "  </thead>\n",
       "  <tbody>\n",
       "    <tr>\n",
       "      <th id=\"T_496e2_level0_row0\" class=\"row_heading level0 row0\" >0</th>\n",
       "      <td id=\"T_496e2_row0_col0\" class=\"data row0 col0\" >Bachelors</td>\n",
       "      <td id=\"T_496e2_row0_col1\" class=\"data row0 col1\" >Bangalore</td>\n",
       "      <td id=\"T_496e2_row0_col2\" class=\"data row0 col2\" >3</td>\n",
       "      <td id=\"T_496e2_row0_col3\" class=\"data row0 col3\" >34</td>\n",
       "      <td id=\"T_496e2_row0_col4\" class=\"data row0 col4\" >Male</td>\n",
       "      <td id=\"T_496e2_row0_col5\" class=\"data row0 col5\" >No</td>\n",
       "      <td id=\"T_496e2_row0_col6\" class=\"data row0 col6\" >0</td>\n",
       "      <td id=\"T_496e2_row0_col7\" class=\"data row0 col7\" >0</td>\n",
       "      <td id=\"T_496e2_row0_col8\" class=\"data row0 col8\" >1</td>\n",
       "    </tr>\n",
       "    <tr>\n",
       "      <th id=\"T_496e2_level0_row1\" class=\"row_heading level0 row1\" >1</th>\n",
       "      <td id=\"T_496e2_row1_col0\" class=\"data row1 col0\" >Bachelors</td>\n",
       "      <td id=\"T_496e2_row1_col1\" class=\"data row1 col1\" >Pune</td>\n",
       "      <td id=\"T_496e2_row1_col2\" class=\"data row1 col2\" >1</td>\n",
       "      <td id=\"T_496e2_row1_col3\" class=\"data row1 col3\" >28</td>\n",
       "      <td id=\"T_496e2_row1_col4\" class=\"data row1 col4\" >Female</td>\n",
       "      <td id=\"T_496e2_row1_col5\" class=\"data row1 col5\" >No</td>\n",
       "      <td id=\"T_496e2_row1_col6\" class=\"data row1 col6\" >3</td>\n",
       "      <td id=\"T_496e2_row1_col7\" class=\"data row1 col7\" >1</td>\n",
       "      <td id=\"T_496e2_row1_col8\" class=\"data row1 col8\" >5</td>\n",
       "    </tr>\n",
       "    <tr>\n",
       "      <th id=\"T_496e2_level0_row2\" class=\"row_heading level0 row2\" >2</th>\n",
       "      <td id=\"T_496e2_row2_col0\" class=\"data row2 col0\" >Bachelors</td>\n",
       "      <td id=\"T_496e2_row2_col1\" class=\"data row2 col1\" >New Delhi</td>\n",
       "      <td id=\"T_496e2_row2_col2\" class=\"data row2 col2\" >3</td>\n",
       "      <td id=\"T_496e2_row2_col3\" class=\"data row2 col3\" >38</td>\n",
       "      <td id=\"T_496e2_row2_col4\" class=\"data row2 col4\" >Female</td>\n",
       "      <td id=\"T_496e2_row2_col5\" class=\"data row2 col5\" >No</td>\n",
       "      <td id=\"T_496e2_row2_col6\" class=\"data row2 col6\" >2</td>\n",
       "      <td id=\"T_496e2_row2_col7\" class=\"data row2 col7\" >0</td>\n",
       "      <td id=\"T_496e2_row2_col8\" class=\"data row2 col8\" >4</td>\n",
       "    </tr>\n",
       "    <tr>\n",
       "      <th id=\"T_496e2_level0_row3\" class=\"row_heading level0 row3\" >3</th>\n",
       "      <td id=\"T_496e2_row3_col0\" class=\"data row3 col0\" >Masters</td>\n",
       "      <td id=\"T_496e2_row3_col1\" class=\"data row3 col1\" >Bangalore</td>\n",
       "      <td id=\"T_496e2_row3_col2\" class=\"data row3 col2\" >3</td>\n",
       "      <td id=\"T_496e2_row3_col3\" class=\"data row3 col3\" >27</td>\n",
       "      <td id=\"T_496e2_row3_col4\" class=\"data row3 col4\" >Male</td>\n",
       "      <td id=\"T_496e2_row3_col5\" class=\"data row3 col5\" >No</td>\n",
       "      <td id=\"T_496e2_row3_col6\" class=\"data row3 col6\" >5</td>\n",
       "      <td id=\"T_496e2_row3_col7\" class=\"data row3 col7\" >1</td>\n",
       "      <td id=\"T_496e2_row3_col8\" class=\"data row3 col8\" >2</td>\n",
       "    </tr>\n",
       "    <tr>\n",
       "      <th id=\"T_496e2_level0_row4\" class=\"row_heading level0 row4\" >4</th>\n",
       "      <td id=\"T_496e2_row4_col0\" class=\"data row4 col0\" >Masters</td>\n",
       "      <td id=\"T_496e2_row4_col1\" class=\"data row4 col1\" >Pune</td>\n",
       "      <td id=\"T_496e2_row4_col2\" class=\"data row4 col2\" >3</td>\n",
       "      <td id=\"T_496e2_row4_col3\" class=\"data row4 col3\" >24</td>\n",
       "      <td id=\"T_496e2_row4_col4\" class=\"data row4 col4\" >Male</td>\n",
       "      <td id=\"T_496e2_row4_col5\" class=\"data row4 col5\" >Yes</td>\n",
       "      <td id=\"T_496e2_row4_col6\" class=\"data row4 col6\" >2</td>\n",
       "      <td id=\"T_496e2_row4_col7\" class=\"data row4 col7\" >1</td>\n",
       "      <td id=\"T_496e2_row4_col8\" class=\"data row4 col8\" >1</td>\n",
       "    </tr>\n",
       "    <tr>\n",
       "      <th id=\"T_496e2_level0_row5\" class=\"row_heading level0 row5\" >5</th>\n",
       "      <td id=\"T_496e2_row5_col0\" class=\"data row5 col0\" >Bachelors</td>\n",
       "      <td id=\"T_496e2_row5_col1\" class=\"data row5 col1\" >Bangalore</td>\n",
       "      <td id=\"T_496e2_row5_col2\" class=\"data row5 col2\" >3</td>\n",
       "      <td id=\"T_496e2_row5_col3\" class=\"data row5 col3\" >22</td>\n",
       "      <td id=\"T_496e2_row5_col4\" class=\"data row5 col4\" >Male</td>\n",
       "      <td id=\"T_496e2_row5_col5\" class=\"data row5 col5\" >No</td>\n",
       "      <td id=\"T_496e2_row5_col6\" class=\"data row5 col6\" >0</td>\n",
       "      <td id=\"T_496e2_row5_col7\" class=\"data row5 col7\" >0</td>\n",
       "      <td id=\"T_496e2_row5_col8\" class=\"data row5 col8\" >2</td>\n",
       "    </tr>\n",
       "    <tr>\n",
       "      <th id=\"T_496e2_level0_row6\" class=\"row_heading level0 row6\" >6</th>\n",
       "      <td id=\"T_496e2_row6_col0\" class=\"data row6 col0\" >Bachelors</td>\n",
       "      <td id=\"T_496e2_row6_col1\" class=\"data row6 col1\" >New Delhi</td>\n",
       "      <td id=\"T_496e2_row6_col2\" class=\"data row6 col2\" >3</td>\n",
       "      <td id=\"T_496e2_row6_col3\" class=\"data row6 col3\" >38</td>\n",
       "      <td id=\"T_496e2_row6_col4\" class=\"data row6 col4\" >Male</td>\n",
       "      <td id=\"T_496e2_row6_col5\" class=\"data row6 col5\" >No</td>\n",
       "      <td id=\"T_496e2_row6_col6\" class=\"data row6 col6\" >0</td>\n",
       "      <td id=\"T_496e2_row6_col7\" class=\"data row6 col7\" >0</td>\n",
       "      <td id=\"T_496e2_row6_col8\" class=\"data row6 col8\" >3</td>\n",
       "    </tr>\n",
       "    <tr>\n",
       "      <th id=\"T_496e2_level0_row7\" class=\"row_heading level0 row7\" >7</th>\n",
       "      <td id=\"T_496e2_row7_col0\" class=\"data row7 col0\" >Bachelors</td>\n",
       "      <td id=\"T_496e2_row7_col1\" class=\"data row7 col1\" >Bangalore</td>\n",
       "      <td id=\"T_496e2_row7_col2\" class=\"data row7 col2\" >3</td>\n",
       "      <td id=\"T_496e2_row7_col3\" class=\"data row7 col3\" >34</td>\n",
       "      <td id=\"T_496e2_row7_col4\" class=\"data row7 col4\" >Female</td>\n",
       "      <td id=\"T_496e2_row7_col5\" class=\"data row7 col5\" >No</td>\n",
       "      <td id=\"T_496e2_row7_col6\" class=\"data row7 col6\" >2</td>\n",
       "      <td id=\"T_496e2_row7_col7\" class=\"data row7 col7\" >1</td>\n",
       "      <td id=\"T_496e2_row7_col8\" class=\"data row7 col8\" >2</td>\n",
       "    </tr>\n",
       "    <tr>\n",
       "      <th id=\"T_496e2_level0_row8\" class=\"row_heading level0 row8\" >8</th>\n",
       "      <td id=\"T_496e2_row8_col0\" class=\"data row8 col0\" >Bachelors</td>\n",
       "      <td id=\"T_496e2_row8_col1\" class=\"data row8 col1\" >Pune</td>\n",
       "      <td id=\"T_496e2_row8_col2\" class=\"data row8 col2\" >3</td>\n",
       "      <td id=\"T_496e2_row8_col3\" class=\"data row8 col3\" >23</td>\n",
       "      <td id=\"T_496e2_row8_col4\" class=\"data row8 col4\" >Male</td>\n",
       "      <td id=\"T_496e2_row8_col5\" class=\"data row8 col5\" >No</td>\n",
       "      <td id=\"T_496e2_row8_col6\" class=\"data row8 col6\" >1</td>\n",
       "      <td id=\"T_496e2_row8_col7\" class=\"data row8 col7\" >0</td>\n",
       "      <td id=\"T_496e2_row8_col8\" class=\"data row8 col8\" >2</td>\n",
       "    </tr>\n",
       "    <tr>\n",
       "      <th id=\"T_496e2_level0_row9\" class=\"row_heading level0 row9\" >9</th>\n",
       "      <td id=\"T_496e2_row9_col0\" class=\"data row9 col0\" >Masters</td>\n",
       "      <td id=\"T_496e2_row9_col1\" class=\"data row9 col1\" >New Delhi</td>\n",
       "      <td id=\"T_496e2_row9_col2\" class=\"data row9 col2\" >2</td>\n",
       "      <td id=\"T_496e2_row9_col3\" class=\"data row9 col3\" >37</td>\n",
       "      <td id=\"T_496e2_row9_col4\" class=\"data row9 col4\" >Male</td>\n",
       "      <td id=\"T_496e2_row9_col5\" class=\"data row9 col5\" >No</td>\n",
       "      <td id=\"T_496e2_row9_col6\" class=\"data row9 col6\" >2</td>\n",
       "      <td id=\"T_496e2_row9_col7\" class=\"data row9 col7\" >0</td>\n",
       "      <td id=\"T_496e2_row9_col8\" class=\"data row9 col8\" >1</td>\n",
       "    </tr>\n",
       "  </tbody>\n",
       "</table>\n"
      ],
      "text/plain": [
       "<pandas.io.formats.style.Styler at 0x27ce6f61ca0>"
      ]
     },
     "execution_count": 20,
     "metadata": {},
     "output_type": "execute_result"
    }
   ],
   "source": [
    "df.head(10).style.set_caption(\"Employee Dataframe\").set_properties(**{'background-color': 'black',\n",
    "                           'color': 'lawngreen','border': '1.5px  solid white'})"
   ]
  },
  {
   "cell_type": "markdown",
   "id": "3c65024b-4654-4479-a239-222b5f6f8671",
   "metadata": {},
   "source": [
    "# Analyzing data with visualizations\n",
    "\n",
    "         1. Count of employees for Education\n",
    "         2. Count of employees in every city\n",
    "         3. Comparing the Payment Tier Distribution of the Company\n",
    "         4. Female-Male Gender Ratio within the company\n",
    "         5. Count of employees' years of experience\n",
    "         6. Age Distribution of employees\n",
    "         7. Comparison of salaries between men and women\n",
    "         8. Analyzing the model coefficients\n",
    "         \n",
    "        \n",
    "\n",
    "\n",
    "\n",
    "\n",
    "\n",
    "\n",
    "\n"
   ]
  },
  {
   "cell_type": "markdown",
   "id": "f343db97-48b2-4c15-9af8-9602c5f5c29e",
   "metadata": {},
   "source": [
    "## 1. Count of employees for Education"
   ]
  },
  {
   "cell_type": "code",
   "execution_count": 26,
   "id": "e12e28cf-eb2c-4837-ac50-e57174fc0710",
   "metadata": {},
   "outputs": [
    {
     "data": {
      "text/plain": [
       "0       Bachelors\n",
       "1       Bachelors\n",
       "2       Bachelors\n",
       "3         Masters\n",
       "4         Masters\n",
       "          ...    \n",
       "4648    Bachelors\n",
       "4649      Masters\n",
       "4650      Masters\n",
       "4651    Bachelors\n",
       "4652    Bachelors\n",
       "Name: Education, Length: 4653, dtype: object"
      ]
     },
     "execution_count": 26,
     "metadata": {},
     "output_type": "execute_result"
    }
   ],
   "source": [
    "df[\"Education\"]"
   ]
  },
  {
   "cell_type": "code",
   "execution_count": 28,
   "id": "62718689-d29d-4118-a803-3c740c4da971",
   "metadata": {},
   "outputs": [
    {
     "data": {
      "image/png": "[encoded data removed]",
      "text/plain": [
       "<Figure size 1500x1000 with 1 Axes>"
      ]
     },
     "metadata": {},
     "output_type": "display_data"
    }
   ],
   "source": [
    "t = df[\"Education\"].value_counts().sort_values(ascending=True)\n",
    "sns.set_theme(style=\"whitegrid\")\n",
    "plt.figure(figsize=(15,10))\n",
    "plots=sns.barplot(x=t.index,y=t.values)\n",
    "# Iterrating over the bars one-by-one\n",
    "for bar in plots.patches:\n",
    "   \n",
    "  # Using Matplotlib's annotate function and\n",
    "  # passing the coordinates where the annotation shall be done\n",
    "  # x-coordinate: bar.get_x() + bar.get_width() / 2\n",
    "  # y-coordinate: bar.get_height()\n",
    "  # free space to be left to make graph pleasing: (0, 8)\n",
    "  # ha and va stand for the horizontal and vertical alignment\n",
    "    plots.annotate(format(bar.get_height(), '.2f'),\n",
    "                   (bar.get_x() + bar.get_width() / 2,\n",
    "                    bar.get_height()), ha='center', va='center',\n",
    "                   size=12, xytext=(0, 8),\n",
    "                   textcoords='offset points',\n",
    "                   bbox=dict(facecolor='none', edgecolor='black', boxstyle='round', linewidth=0.2))\n",
    "    \n",
    "plt.xticks(rotation=0) #Rotating the Label\n",
    "plt.title(\"Education\",size=25,weight=\"bold\") #Title of the plot\n",
    "plt.xlabel(\"\",fontsize=20) #Title of x-axis\n",
    "plt.tick_params(labelsize=10) #Varying label size\n",
    "plt.tight_layout()"
   ]
  },
  {
   "cell_type": "markdown",
   "id": "3b688556-2fd7-4ddc-bbd9-4d582bdc5109",
   "metadata": {},
   "source": [
    "## 2. Count of employees in every city"
   ]
  },
  {
   "cell_type": "code",
   "execution_count": 31,
   "id": "038fe4e4-89ff-469b-af9d-395544bdf743",
   "metadata": {},
   "outputs": [
    {
     "data": {
      "image/png": "[encoded data removed]",
      "text/plain": [
       "<Figure size 1500x1000 with 1 Axes>"
      ]
     },
     "metadata": {},
     "output_type": "display_data"
    }
   ],
   "source": [
    "z=df[\"City\"].value_counts().sort_values(ascending=True)\n",
    "sns.set_theme(style=\"darkgrid\")\n",
    "plt.figure(figsize=(15,10))\n",
    "plots=sns.barplot(x=z.index,y=z.values)\n",
    "# Iterrating over the bars one-by-one\n",
    "for bar in plots.patches:\n",
    "   \n",
    "  # Using Matplotlib's annotate function and\n",
    "  # passing the coordinates where the annotation shall be done\n",
    "  # x-coordinate: bar.get_x() + bar.get_width() / 2\n",
    "  # y-coordinate: bar.get_height()\n",
    "  # free space to be left to make graph pleasing: (0, 8)\n",
    "  # ha and va stand for the horizontal and vertical alignment\n",
    "    plots.annotate(format(bar.get_height(), '.2f'),\n",
    "                   (bar.get_x() + bar.get_width() / 2,\n",
    "                    bar.get_height()), ha='center', va='center',\n",
    "                   size=12, xytext=(0, 8),\n",
    "                   textcoords='offset points')\n",
    "plt.xticks(rotation=0) #Rotating the Label\n",
    "plt.title(\"Count of employees in every City\",size=25,weight=\"bold\") #Title of the plot\n",
    "plt.xlabel(\"\") #Title of x-axis\n",
    "plt.ylabel(\"\")\n",
    "plt.tick_params(labelsize=10) #Varying label size\n",
    "plt.tight_layout()"
   ]
  },
  {
   "cell_type": "markdown",
   "id": "5c61e652-ba79-4877-b716-020a9de626fe",
   "metadata": {},
   "source": [
    "##### Looks like BANGALORE has a higher employee number. Might suggest that the company's based on this city."
   ]
  },
  {
   "cell_type": "code",
   "execution_count": 34,
   "id": "a335fd97-33e0-4276-82ef-ff6e80cdbbf9",
   "metadata": {},
   "outputs": [],
   "source": [
    "y = df.groupby([\"City\", \"Education\"]).size().reset_index(name=\"Count\").sort_values(by=\"Count\", ascending=False)\n",
    "\n"
   ]
  },
  {
   "cell_type": "code",
   "execution_count": 36,
   "id": "16f58b04-251b-4cd5-b2e1-dccb9d6b140c",
   "metadata": {},
   "outputs": [
    {
     "data": {
      "text/html": [
       "<div>\n",
       "<style scoped>\n",
       "    .dataframe tbody tr th:only-of-type {\n",
       "        vertical-align: middle;\n",
       "    }\n",
       "\n",
       "    .dataframe tbody tr th {\n",
       "        vertical-align: top;\n",
       "    }\n",
       "\n",
       "    .dataframe thead th {\n",
       "        text-align: right;\n",
       "    }\n",
       "</style>\n",
       "<table border=\"1\" class=\"dataframe\">\n",
       "  <thead>\n",
       "    <tr style=\"text-align: right;\">\n",
       "      <th></th>\n",
       "      <th>City</th>\n",
       "      <th>Education</th>\n",
       "      <th>Count</th>\n",
       "    </tr>\n",
       "  </thead>\n",
       "  <tbody>\n",
       "    <tr>\n",
       "      <th>0</th>\n",
       "      <td>Bangalore</td>\n",
       "      <td>Bachelors</td>\n",
       "      <td>2052</td>\n",
       "    </tr>\n",
       "    <tr>\n",
       "      <th>6</th>\n",
       "      <td>Pune</td>\n",
       "      <td>Bachelors</td>\n",
       "      <td>1012</td>\n",
       "    </tr>\n",
       "    <tr>\n",
       "      <th>3</th>\n",
       "      <td>New Delhi</td>\n",
       "      <td>Bachelors</td>\n",
       "      <td>537</td>\n",
       "    </tr>\n",
       "    <tr>\n",
       "      <th>4</th>\n",
       "      <td>New Delhi</td>\n",
       "      <td>Masters</td>\n",
       "      <td>517</td>\n",
       "    </tr>\n",
       "    <tr>\n",
       "      <th>7</th>\n",
       "      <td>Pune</td>\n",
       "      <td>Masters</td>\n",
       "      <td>232</td>\n",
       "    </tr>\n",
       "    <tr>\n",
       "      <th>1</th>\n",
       "      <td>Bangalore</td>\n",
       "      <td>Masters</td>\n",
       "      <td>124</td>\n",
       "    </tr>\n",
       "    <tr>\n",
       "      <th>5</th>\n",
       "      <td>New Delhi</td>\n",
       "      <td>PHD</td>\n",
       "      <td>103</td>\n",
       "    </tr>\n",
       "    <tr>\n",
       "      <th>2</th>\n",
       "      <td>Bangalore</td>\n",
       "      <td>PHD</td>\n",
       "      <td>52</td>\n",
       "    </tr>\n",
       "    <tr>\n",
       "      <th>8</th>\n",
       "      <td>Pune</td>\n",
       "      <td>PHD</td>\n",
       "      <td>24</td>\n",
       "    </tr>\n",
       "  </tbody>\n",
       "</table>\n",
       "</div>"
      ],
      "text/plain": [
       "        City  Education  Count\n",
       "0  Bangalore  Bachelors   2052\n",
       "6       Pune  Bachelors   1012\n",
       "3  New Delhi  Bachelors    537\n",
       "4  New Delhi    Masters    517\n",
       "7       Pune    Masters    232\n",
       "1  Bangalore    Masters    124\n",
       "5  New Delhi        PHD    103\n",
       "2  Bangalore        PHD     52\n",
       "8       Pune        PHD     24"
      ]
     },
     "execution_count": 36,
     "metadata": {},
     "output_type": "execute_result"
    }
   ],
   "source": [
    "y"
   ]
  },
  {
   "cell_type": "markdown",
   "id": "43ab2f09-9434-4532-a610-4cbd80c2e83d",
   "metadata": {},
   "source": [
    "##### 🏙️ City-wise Comparison\n",
    "\n",
    "- **Bangalore**  \n",
    "  - Bachelors: 2052  \n",
    "  - Masters: 124  \n",
    "  - PHD: 52  \n",
    "  ➡️ Predominantly Bachelors.\n",
    "\n",
    "- **Pune**  \n",
    "  - Bachelors: 1012  \n",
    "  - Masters: 232  \n",
    "  - PHD: 24  \n",
    "  ➡️ Mostly Bachelors, but Masters also notable.\n",
    "\n",
    "- **New Delhi**  \n",
    "  - Bachelors: 537  \n",
    "  - Masters: 517  \n",
    "  - PHD: 103  \n",
    "  ➡️ Balanced distribution; Masters and Bachelors are close.\n",
    "\n",
    "---\n",
    "\n",
    "##### 🎓 General Insight\n",
    "\n",
    "PHD is the least common education level across all cities."
   ]
  },
  {
   "cell_type": "markdown",
   "id": "55299fd8-1267-4cdb-8011-5ddb2cd5414f",
   "metadata": {},
   "source": [
    "## 3. Comparing the Payment Tier Distribution of the Company"
   ]
  },
  {
   "cell_type": "code",
   "execution_count": 40,
   "id": "b559e2b5-66f5-4814-9a8b-b225fce66b45",
   "metadata": {},
   "outputs": [
    {
     "data": {
      "image/png": "[encoded data removed]",
      "text/plain": [
       "<Figure size 600x600 with 1 Axes>"
      ]
     },
     "metadata": {},
     "output_type": "display_data"
    }
   ],
   "source": [
    "sns.set_theme(style=\"darkgrid\")\n",
    "plt.figure(figsize=(6,6))\n",
    "\n",
    "counts = df[\"PaymentTier\"].value_counts()\n",
    "\n",
    "patches, texts, autotexts = plt.pie(counts, labels=counts.index, autopct='%1.1f%%',\n",
    "                                    startangle=140, textprops={'fontsize': 14})\n",
    "for autotext in autotexts:\n",
    "    autotext.set_color('black')\n",
    "    autotext.set_weight('bold')\n",
    "\n",
    "plt.title(\"PaymentTier Distribution\", size=25,weight=\"bold\")\n",
    "plt.tight_layout()\n",
    "plt.show()"
   ]
  },
  {
   "cell_type": "markdown",
   "id": "c05229f8-add1-413b-8947-b7fa7b3cc781",
   "metadata": {},
   "source": [
    "###\n",
    "\n",
    "The image presents a **Payment Tier Distribution** with the following percentages:  \n",
    "- **Tier 3**: 75.0% (dominant majority)  \n",
    "- **Tier 2**: 19.7%  \n",
    "- **Tier 1**: 5.2%  \n",
    "\n",
    "This indicates that **Tier 3** is the most common payment tier, while **Tier 1** is the least frequent.  "
   ]
  },
  {
   "cell_type": "markdown",
   "id": "f900ec42-f5f4-429b-90ba-9dc6546646fd",
   "metadata": {},
   "source": [
    "## 4. Female-Male Gender Ratio within the company\n"
   ]
  },
  {
   "cell_type": "code",
   "execution_count": 44,
   "id": "797d0da5-1aa3-4636-bfc6-ad58c2701e67",
   "metadata": {},
   "outputs": [
    {
     "data": {
      "text/plain": [
       "Gender\n",
       "Female    0.402966\n",
       "Male      0.597034\n",
       "dtype: float64"
      ]
     },
     "execution_count": 44,
     "metadata": {},
     "output_type": "execute_result"
    }
   ],
   "source": [
    "x = df.groupby(\"Gender\").size() / len(df)\n",
    "x"
   ]
  },
  {
   "cell_type": "code",
   "execution_count": 46,
   "id": "52d07c1d-a0b7-4bad-9109-e06920a9cdde",
   "metadata": {},
   "outputs": [
    {
     "data": {
      "image/png": "[encoded data removed]",
      "text/plain": [
       "<Figure size 600x600 with 1 Axes>"
      ]
     },
     "metadata": {},
     "output_type": "display_data"
    }
   ],
   "source": [
    "plt.figure(figsize=(6,6))\n",
    "# Create a Donut Chart\n",
    "plt.pie(x,labels=x.index,wedgeprops = { 'linewidth' : 5, 'edgecolor' : 'white' },autopct='%2.1f%%')\n",
    "plt.rc(\"font\",size=13)\n",
    "# add a circle at the center to transform it in a donut chart\n",
    "my_circle=plt.Circle( (0,0), 0.5, color='white')\n",
    "p=plt.gcf()\n",
    "p.gca().add_artist(my_circle)\n",
    "plt.title(\"Female vs Male Distribution\",size=20,loc=\"center\")\n",
    "\n",
    "plt.tight_layout()"
   ]
  },
  {
   "cell_type": "markdown",
   "id": "9cc6a2d1-f821-482b-b448-024370cae4d2",
   "metadata": {},
   "source": [
    "##### There are more Male employees than Females.(59.7% to 40.3%)¶\n",
    "\n"
   ]
  },
  {
   "cell_type": "markdown",
   "id": "948a7fa8-c5cb-4c1d-a347-584085b0c256",
   "metadata": {},
   "source": [
    "## 5. Count of employees' years of experience\n",
    "\n",
    "\n",
    "\n",
    "\n",
    "\n",
    "\n",
    "\n",
    "\n",
    "\n"
   ]
  },
  {
   "cell_type": "code",
   "execution_count": 50,
   "id": "821454a0-1c11-4995-b1db-c668fd4b5757",
   "metadata": {},
   "outputs": [
    {
     "data": {
      "text/plain": [
       "ExperienceInCurrentDomain\n",
       "0    0.076295\n",
       "1    0.119923\n",
       "2    0.233613\n",
       "3    0.168923\n",
       "4    0.200086\n",
       "5    0.197507\n",
       "6    0.001719\n",
       "7    0.001934\n",
       "dtype: float64"
      ]
     },
     "execution_count": 50,
     "metadata": {},
     "output_type": "execute_result"
    }
   ],
   "source": [
    "j = df.groupby(\"ExperienceInCurrentDomain\").size() / len(df)\n",
    "\n",
    "j"
   ]
  },
  {
   "cell_type": "code",
   "execution_count": 52,
   "id": "ede35085-06f5-47ca-ac1f-8c7515a571ec",
   "metadata": {},
   "outputs": [
    {
     "data": {
      "image/png": "[encoded data removed]",
      "text/plain": [
       "<Figure size 1000x1000 with 1 Axes>"
      ]
     },
     "metadata": {},
     "output_type": "display_data"
    }
   ],
   "source": [
    "plt.figure(figsize=(10, 10))\n",
    "squarify.plot(\n",
    "    sizes=j.values, \n",
    "    label=j.index, \n",
    "    color=[\"grey\", \"green\", \"blue\", \"red\", \"yellow\", \"orange\", \"indigo\"], \n",
    "    alpha=0.5\n",
    ")\n",
    "plt.rc('font', size=8)          \n",
    "plt.axis('off')\n",
    "plt.show()"
   ]
  },
  {
   "cell_type": "markdown",
   "id": "086e28b2-d0d3-4b10-b89e-ae8bedf54faf",
   "metadata": {},
   "source": [
    "Most employees have been with the company for between 2 to 5 years. Very few have been there for 6 or 7 years. This suggests that the company may be relatively new and in a growth phase, or it may have difficulty retaining employees over a long period."
   ]
  },
  {
   "cell_type": "markdown",
   "id": "4b35f1a1-0817-48e6-bb77-a743f1cee0aa",
   "metadata": {},
   "source": [
    "## 6. Age Distribution of employees\n"
   ]
  },
  {
   "cell_type": "code",
   "execution_count": 56,
   "id": "aaaaba2f-30d9-4f57-93b9-855022d48aec",
   "metadata": {},
   "outputs": [
    {
     "data": {
      "image/png": "[encoded data removed]",
      "text/plain": [
       "<Figure size 800x600 with 1 Axes>"
      ]
     },
     "metadata": {},
     "output_type": "display_data"
    }
   ],
   "source": [
    "plt.figure(figsize=(8,6))\n",
    "sns.set_theme(style=\"darkgrid\")\n",
    "plt.grid(True)\n",
    "ax=sns.kdeplot(df[\"Age\"],fill=True,color=\"red\")\n",
    "ax.grid(which='major', axis='x', zorder=0, color='#DFFF00', linewidth=0.4)\n",
    "ax.grid(which='major', axis='y', zorder=0, color='#DFFF00', linewidth=0.4)\n",
    "plt.rc('font', size=10,weight=\"bold\")\n",
    "plt.xticks(rotation=0)\n",
    "plt.tight_layout()"
   ]
  },
  {
   "cell_type": "markdown",
   "id": "6d08cfe3-c10b-4921-ae4e-54313743f0da",
   "metadata": {},
   "source": [
    "Most employees are between 25 and 28 years old, and the company has very young staff members working with them."
   ]
  },
  {
   "cell_type": "markdown",
   "id": "00eb4950-a5b6-40de-be7e-56b4fde44be0",
   "metadata": {},
   "source": [
    "## 7. Comparison of salaries between men and women\n",
    "\n",
    "\n",
    "\n",
    "\n",
    "\n",
    "\n",
    "\n",
    "\n",
    "\n"
   ]
  },
  {
   "cell_type": "code",
   "execution_count": 60,
   "id": "3830f54d-53dc-4dbc-99cc-37d743e68177",
   "metadata": {},
   "outputs": [
    {
     "data": {
      "text/plain": [
       "<matplotlib.legend.Legend at 0x27ce7a25c70>"
      ]
     },
     "execution_count": 60,
     "metadata": {},
     "output_type": "execute_result"
    },
    {
     "data": {
      "image/png": "[encoded data removed]",
      "text/plain": [
       "<Figure size 800x600 with 1 Axes>"
      ]
     },
     "metadata": {},
     "output_type": "display_data"
    }
   ],
   "source": [
    "plt.figure(figsize=(8,6))\n",
    "sns.set_theme(style=\"darkgrid\")\n",
    "sns.kdeplot(df.loc[(df[\"Gender\"] == \"Female\"), \"PaymentTier\"],\n",
    "            fill=True, color=\"yellow\", label=\"Female\", alpha=0.1)\n",
    "sns.kdeplot(df.loc[(df[\"Gender\"] == \"Male\"), \"PaymentTier\"],\n",
    "            fill=True, color=\"red\", label=\"Male\", alpha=0.1)\n",
    "plt.legend()"
   ]
  },
  {
   "cell_type": "markdown",
   "id": "8c487405-a0c3-4b59-bb17-2ef8e3deb1db",
   "metadata": {},
   "source": [
    "We can conclude that, in general, women are paid less than men. A large portion of men earn a salary above ₹30,001, while women's salaries are more evenly distributed across the three different classes."
   ]
  },
  {
   "cell_type": "markdown",
   "id": "7aee9748-cbc0-4679-9237-afd76aad7da7",
   "metadata": {},
   "source": [
    "## Realizing why dismissal rates are so high"
   ]
  },
  {
   "cell_type": "code",
   "execution_count": 64,
   "id": "4bdbbff6-fb4e-486f-a6e8-db7e3ada4065",
   "metadata": {},
   "outputs": [
    {
     "data": {
      "text/plain": [
       "LeaveOrNot\n",
       "0    3053\n",
       "1    1600\n",
       "Name: count, dtype: int64"
      ]
     },
     "execution_count": 64,
     "metadata": {},
     "output_type": "execute_result"
    }
   ],
   "source": [
    "df['LeaveOrNot'].value_counts()"
   ]
  },
  {
   "cell_type": "code",
   "execution_count": 66,
   "id": "4dbee8f6-c4ed-4baa-b594-6d7506da73d8",
   "metadata": {},
   "outputs": [],
   "source": [
    "# Feature separation\n",
    "X = df.drop('LeaveOrNot', axis = 1)\n",
    "y = df['LeaveOrNot']"
   ]
  },
  {
   "cell_type": "code",
   "execution_count": 68,
   "id": "bf8d88f6-5e21-41ec-a55e-c15515b7501d",
   "metadata": {},
   "outputs": [],
   "source": [
    "# Train Test Split\n",
    "X_train, X_test, y_train, y_test = train_test_split(X, y, test_size = 0.2, random_state = 42)"
   ]
  },
  {
   "cell_type": "code",
   "execution_count": 70,
   "id": "5b50cbed-ec65-4730-bef4-78561671b007",
   "metadata": {},
   "outputs": [],
   "source": [
    "# Separation of categorical and numerical variables\n",
    "cat_features = X.select_dtypes(include = ['object']).columns.tolist()\n",
    "num_features = X.select_dtypes(include = ['int64', 'float64']).columns.tolist()"
   ]
  },
  {
   "cell_type": "markdown",
   "id": "9dad3a19-883c-4da1-af88-ac4965960d88",
   "metadata": {},
   "source": [
    "#### Data processing Pipeline"
   ]
  },
  {
   "cell_type": "code",
   "execution_count": 73,
   "id": "c2a8abed-9fb0-4cf8-847e-84fed57578ec",
   "metadata": {},
   "outputs": [],
   "source": [
    "# Pipeline numeric variables\n",
    "numeric_transformer = Pipeline(steps = [\n",
    "    ('imputer', KNNImputer(n_neighbors=6)), \n",
    "    ('scaler', StandardScaler())\n",
    "])"
   ]
  },
  {
   "cell_type": "code",
   "execution_count": 75,
   "id": "4b3b509f-79a1-47d2-9e48-b59d6cfa5df0",
   "metadata": {},
   "outputs": [],
   "source": [
    "# Pipeline categorical variables\n",
    "cat_transformer = Pipeline(steps = [\n",
    "    ('imputer', SimpleImputer(strategy = 'constant', fill_value = 'missing')),\n",
    "    ('onehot', OneHotEncoder(handle_unknown = 'ignore'))\n",
    "])"
   ]
  },
  {
   "cell_type": "code",
   "execution_count": 77,
   "id": "d68ae5b0-0cb9-45fb-ac82-6d22655c1fb8",
   "metadata": {},
   "outputs": [],
   "source": [
    "# Preprocessor\n",
    "preprocessor = ColumnTransformer(\n",
    "        transformers = [\n",
    "            ('num', numeric_transformer, num_features),\n",
    "            ('cat', cat_transformer, cat_features)])"
   ]
  },
  {
   "cell_type": "code",
   "execution_count": 79,
   "id": "e4d9d7b8-9410-4cd6-9e13-6c06c06be7f9",
   "metadata": {},
   "outputs": [],
   "source": [
    "# Pipeline modeling\n",
    "model_df = Pipeline(steps = [\n",
    "    ('preprocessor', preprocessor),\n",
    "    ('classifier', LogisticRegression(max_iter=1000))\n",
    "])"
   ]
  },
  {
   "cell_type": "code",
   "execution_count": 81,
   "id": "301ac3cc-d5db-402c-90e7-4d7442748871",
   "metadata": {},
   "outputs": [
    {
     "data": {
      "text/html": [
       "<style>#sk-container-id-1 {\n",
       "  /* Definition of color scheme common for light and dark mode */\n",
       "  --sklearn-color-text: #000;\n",
       "  --sklearn-color-text-muted: #666;\n",
       "  --sklearn-color-line: gray;\n",
       "  /* Definition of color scheme for unfitted estimators */\n",
       "  --sklearn-color-unfitted-level-0: #fff5e6;\n",
       "  --sklearn-color-unfitted-level-1: #f6e4d2;\n",
       "  --sklearn-color-unfitted-level-2: #ffe0b3;\n",
       "  --sklearn-color-unfitted-level-3: chocolate;\n",
       "  /* Definition of color scheme for fitted estimators */\n",
       "  --sklearn-color-fitted-level-0: #f0f8ff;\n",
       "  --sklearn-color-fitted-level-1: #d4ebff;\n",
       "  --sklearn-color-fitted-level-2: #b3dbfd;\n",
       "  --sklearn-color-fitted-level-3: cornflowerblue;\n",
       "\n",
       "  /* Specific color for light theme */\n",
       "  --sklearn-color-text-on-default-background: var(--sg-text-color, var(--theme-code-foreground, var(--jp-content-font-color1, black)));\n",
       "  --sklearn-color-background: var(--sg-background-color, var(--theme-background, var(--jp-layout-color0, white)));\n",
       "  --sklearn-color-border-box: var(--sg-text-color, var(--theme-code-foreground, var(--jp-content-font-color1, black)));\n",
       "  --sklearn-color-icon: #696969;\n",
       "\n",
       "  @media (prefers-color-scheme: dark) {\n",
       "    /* Redefinition of color scheme for dark theme */\n",
       "    --sklearn-color-text-on-default-background: var(--sg-text-color, var(--theme-code-foreground, var(--jp-content-font-color1, white)));\n",
       "    --sklearn-color-background: var(--sg-background-color, var(--theme-background, var(--jp-layout-color0, #111)));\n",
       "    --sklearn-color-border-box: var(--sg-text-color, var(--theme-code-foreground, var(--jp-content-font-color1, white)));\n",
       "    --sklearn-color-icon: #878787;\n",
       "  }\n",
       "}\n",
       "\n",
       "#sk-container-id-1 {\n",
       "  color: var(--sklearn-color-text);\n",
       "}\n",
       "\n",
       "#sk-container-id-1 pre {\n",
       "  padding: 0;\n",
       "}\n",
       "\n",
       "#sk-container-id-1 input.sk-hidden--visually {\n",
       "  border: 0;\n",
       "  clip: rect(1px 1px 1px 1px);\n",
       "  clip: rect(1px, 1px, 1px, 1px);\n",
       "  height: 1px;\n",
       "  margin: -1px;\n",
       "  overflow: hidden;\n",
       "  padding: 0;\n",
       "  position: absolute;\n",
       "  width: 1px;\n",
       "}\n",
       "\n",
       "#sk-container-id-1 div.sk-dashed-wrapped {\n",
       "  border: 1px dashed var(--sklearn-color-line);\n",
       "  margin: 0 0.4em 0.5em 0.4em;\n",
       "  box-sizing: border-box;\n",
       "  padding-bottom: 0.4em;\n",
       "  background-color: var(--sklearn-color-background);\n",
       "}\n",
       "\n",
       "#sk-container-id-1 div.sk-container {\n",
       "  /* jupyter's `normalize.less` sets `[hidden] { display: none; }`\n",
       "     but bootstrap.min.css set `[hidden] { display: none !important; }`\n",
       "     so we also need the `!important` here to be able to override the\n",
       "     default hidden behavior on the sphinx rendered scikit-learn.org.\n",
       "     See: https://github.com/scikit-learn/scikit-learn/issues/21755 */\n",
       "  display: inline-block !important;\n",
       "  position: relative;\n",
       "}\n",
       "\n",
       "#sk-container-id-1 div.sk-text-repr-fallback {\n",
       "  display: none;\n",
       "}\n",
       "\n",
       "div.sk-parallel-item,\n",
       "div.sk-serial,\n",
       "div.sk-item {\n",
       "  /* draw centered vertical line to link estimators */\n",
       "  background-image: linear-gradient(var(--sklearn-color-text-on-default-background), var(--sklearn-color-text-on-default-background));\n",
       "  background-size: 2px 100%;\n",
       "  background-repeat: no-repeat;\n",
       "  background-position: center center;\n",
       "}\n",
       "\n",
       "/* Parallel-specific style estimator block */\n",
       "\n",
       "#sk-container-id-1 div.sk-parallel-item::after {\n",
       "  content: \"\";\n",
       "  width: 100%;\n",
       "  border-bottom: 2px solid var(--sklearn-color-text-on-default-background);\n",
       "  flex-grow: 1;\n",
       "}\n",
       "\n",
       "#sk-container-id-1 div.sk-parallel {\n",
       "  display: flex;\n",
       "  align-items: stretch;\n",
       "  justify-content: center;\n",
       "  background-color: var(--sklearn-color-background);\n",
       "  position: relative;\n",
       "}\n",
       "\n",
       "#sk-container-id-1 div.sk-parallel-item {\n",
       "  display: flex;\n",
       "  flex-direction: column;\n",
       "}\n",
       "\n",
       "#sk-container-id-1 div.sk-parallel-item:first-child::after {\n",
       "  align-self: flex-end;\n",
       "  width: 50%;\n",
       "}\n",
       "\n",
       "#sk-container-id-1 div.sk-parallel-item:last-child::after {\n",
       "  align-self: flex-start;\n",
       "  width: 50%;\n",
       "}\n",
       "\n",
       "#sk-container-id-1 div.sk-parallel-item:only-child::after {\n",
       "  width: 0;\n",
       "}\n",
       "\n",
       "/* Serial-specific style estimator block */\n",
       "\n",
       "#sk-container-id-1 div.sk-serial {\n",
       "  display: flex;\n",
       "  flex-direction: column;\n",
       "  align-items: center;\n",
       "  background-color: var(--sklearn-color-background);\n",
       "  padding-right: 1em;\n",
       "  padding-left: 1em;\n",
       "}\n",
       "\n",
       "\n",
       "/* Toggleable style: style used for estimator/Pipeline/ColumnTransformer box that is\n",
       "clickable and can be expanded/collapsed.\n",
       "- Pipeline and ColumnTransformer use this feature and define the default style\n",
       "- Estimators will overwrite some part of the style using the `sk-estimator` class\n",
       "*/\n",
       "\n",
       "/* Pipeline and ColumnTransformer style (default) */\n",
       "\n",
       "#sk-container-id-1 div.sk-toggleable {\n",
       "  /* Default theme specific background. It is overwritten whether we have a\n",
       "  specific estimator or a Pipeline/ColumnTransformer */\n",
       "  background-color: var(--sklearn-color-background);\n",
       "}\n",
       "\n",
       "/* Toggleable label */\n",
       "#sk-container-id-1 label.sk-toggleable__label {\n",
       "  cursor: pointer;\n",
       "  display: flex;\n",
       "  width: 100%;\n",
       "  margin-bottom: 0;\n",
       "  padding: 0.5em;\n",
       "  box-sizing: border-box;\n",
       "  text-align: center;\n",
       "  align-items: start;\n",
       "  justify-content: space-between;\n",
       "  gap: 0.5em;\n",
       "}\n",
       "\n",
       "#sk-container-id-1 label.sk-toggleable__label .caption {\n",
       "  font-size: 0.6rem;\n",
       "  font-weight: lighter;\n",
       "  color: var(--sklearn-color-text-muted);\n",
       "}\n",
       "\n",
       "#sk-container-id-1 label.sk-toggleable__label-arrow:before {\n",
       "  /* Arrow on the left of the label */\n",
       "  content: \"▸\";\n",
       "  float: left;\n",
       "  margin-right: 0.25em;\n",
       "  color: var(--sklearn-color-icon);\n",
       "}\n",
       "\n",
       "#sk-container-id-1 label.sk-toggleable__label-arrow:hover:before {\n",
       "  color: var(--sklearn-color-text);\n",
       "}\n",
       "\n",
       "/* Toggleable content - dropdown */\n",
       "\n",
       "#sk-container-id-1 div.sk-toggleable__content {\n",
       "  max-height: 0;\n",
       "  max-width: 0;\n",
       "  overflow: hidden;\n",
       "  text-align: left;\n",
       "  /* unfitted */\n",
       "  background-color: var(--sklearn-color-unfitted-level-0);\n",
       "}\n",
       "\n",
       "#sk-container-id-1 div.sk-toggleable__content.fitted {\n",
       "  /* fitted */\n",
       "  background-color: var(--sklearn-color-fitted-level-0);\n",
       "}\n",
       "\n",
       "#sk-container-id-1 div.sk-toggleable__content pre {\n",
       "  margin: 0.2em;\n",
       "  border-radius: 0.25em;\n",
       "  color: var(--sklearn-color-text);\n",
       "  /* unfitted */\n",
       "  background-color: var(--sklearn-color-unfitted-level-0);\n",
       "}\n",
       "\n",
       "#sk-container-id-1 div.sk-toggleable__content.fitted pre {\n",
       "  /* unfitted */\n",
       "  background-color: var(--sklearn-color-fitted-level-0);\n",
       "}\n",
       "\n",
       "#sk-container-id-1 input.sk-toggleable__control:checked~div.sk-toggleable__content {\n",
       "  /* Expand drop-down */\n",
       "  max-height: 200px;\n",
       "  max-width: 100%;\n",
       "  overflow: auto;\n",
       "}\n",
       "\n",
       "#sk-container-id-1 input.sk-toggleable__control:checked~label.sk-toggleable__label-arrow:before {\n",
       "  content: \"▾\";\n",
       "}\n",
       "\n",
       "/* Pipeline/ColumnTransformer-specific style */\n",
       "\n",
       "#sk-container-id-1 div.sk-label input.sk-toggleable__control:checked~label.sk-toggleable__label {\n",
       "  color: var(--sklearn-color-text);\n",
       "  background-color: var(--sklearn-color-unfitted-level-2);\n",
       "}\n",
       "\n",
       "#sk-container-id-1 div.sk-label.fitted input.sk-toggleable__control:checked~label.sk-toggleable__label {\n",
       "  background-color: var(--sklearn-color-fitted-level-2);\n",
       "}\n",
       "\n",
       "/* Estimator-specific style */\n",
       "\n",
       "/* Colorize estimator box */\n",
       "#sk-container-id-1 div.sk-estimator input.sk-toggleable__control:checked~label.sk-toggleable__label {\n",
       "  /* unfitted */\n",
       "  background-color: var(--sklearn-color-unfitted-level-2);\n",
       "}\n",
       "\n",
       "#sk-container-id-1 div.sk-estimator.fitted input.sk-toggleable__control:checked~label.sk-toggleable__label {\n",
       "  /* fitted */\n",
       "  background-color: var(--sklearn-color-fitted-level-2);\n",
       "}\n",
       "\n",
       "#sk-container-id-1 div.sk-label label.sk-toggleable__label,\n",
       "#sk-container-id-1 div.sk-label label {\n",
       "  /* The background is the default theme color */\n",
       "  color: var(--sklearn-color-text-on-default-background);\n",
       "}\n",
       "\n",
       "/* On hover, darken the color of the background */\n",
       "#sk-container-id-1 div.sk-label:hover label.sk-toggleable__label {\n",
       "  color: var(--sklearn-color-text);\n",
       "  background-color: var(--sklearn-color-unfitted-level-2);\n",
       "}\n",
       "\n",
       "/* Label box, darken color on hover, fitted */\n",
       "#sk-container-id-1 div.sk-label.fitted:hover label.sk-toggleable__label.fitted {\n",
       "  color: var(--sklearn-color-text);\n",
       "  background-color: var(--sklearn-color-fitted-level-2);\n",
       "}\n",
       "\n",
       "/* Estimator label */\n",
       "\n",
       "#sk-container-id-1 div.sk-label label {\n",
       "  font-family: monospace;\n",
       "  font-weight: bold;\n",
       "  display: inline-block;\n",
       "  line-height: 1.2em;\n",
       "}\n",
       "\n",
       "#sk-container-id-1 div.sk-label-container {\n",
       "  text-align: center;\n",
       "}\n",
       "\n",
       "/* Estimator-specific */\n",
       "#sk-container-id-1 div.sk-estimator {\n",
       "  font-family: monospace;\n",
       "  border: 1px dotted var(--sklearn-color-border-box);\n",
       "  border-radius: 0.25em;\n",
       "  box-sizing: border-box;\n",
       "  margin-bottom: 0.5em;\n",
       "  /* unfitted */\n",
       "  background-color: var(--sklearn-color-unfitted-level-0);\n",
       "}\n",
       "\n",
       "#sk-container-id-1 div.sk-estimator.fitted {\n",
       "  /* fitted */\n",
       "  background-color: var(--sklearn-color-fitted-level-0);\n",
       "}\n",
       "\n",
       "/* on hover */\n",
       "#sk-container-id-1 div.sk-estimator:hover {\n",
       "  /* unfitted */\n",
       "  background-color: var(--sklearn-color-unfitted-level-2);\n",
       "}\n",
       "\n",
       "#sk-container-id-1 div.sk-estimator.fitted:hover {\n",
       "  /* fitted */\n",
       "  background-color: var(--sklearn-color-fitted-level-2);\n",
       "}\n",
       "\n",
       "/* Specification for estimator info (e.g. \"i\" and \"?\") */\n",
       "\n",
       "/* Common style for \"i\" and \"?\" */\n",
       "\n",
       ".sk-estimator-doc-link,\n",
       "a:link.sk-estimator-doc-link,\n",
       "a:visited.sk-estimator-doc-link {\n",
       "  float: right;\n",
       "  font-size: smaller;\n",
       "  line-height: 1em;\n",
       "  font-family: monospace;\n",
       "  background-color: var(--sklearn-color-background);\n",
       "  border-radius: 1em;\n",
       "  height: 1em;\n",
       "  width: 1em;\n",
       "  text-decoration: none !important;\n",
       "  margin-left: 0.5em;\n",
       "  text-align: center;\n",
       "  /* unfitted */\n",
       "  border: var(--sklearn-color-unfitted-level-1) 1pt solid;\n",
       "  color: var(--sklearn-color-unfitted-level-1);\n",
       "}\n",
       "\n",
       ".sk-estimator-doc-link.fitted,\n",
       "a:link.sk-estimator-doc-link.fitted,\n",
       "a:visited.sk-estimator-doc-link.fitted {\n",
       "  /* fitted */\n",
       "  border: var(--sklearn-color-fitted-level-1) 1pt solid;\n",
       "  color: var(--sklearn-color-fitted-level-1);\n",
       "}\n",
       "\n",
       "/* On hover */\n",
       "div.sk-estimator:hover .sk-estimator-doc-link:hover,\n",
       ".sk-estimator-doc-link:hover,\n",
       "div.sk-label-container:hover .sk-estimator-doc-link:hover,\n",
       ".sk-estimator-doc-link:hover {\n",
       "  /* unfitted */\n",
       "  background-color: var(--sklearn-color-unfitted-level-3);\n",
       "  color: var(--sklearn-color-background);\n",
       "  text-decoration: none;\n",
       "}\n",
       "\n",
       "div.sk-estimator.fitted:hover .sk-estimator-doc-link.fitted:hover,\n",
       ".sk-estimator-doc-link.fitted:hover,\n",
       "div.sk-label-container:hover .sk-estimator-doc-link.fitted:hover,\n",
       ".sk-estimator-doc-link.fitted:hover {\n",
       "  /* fitted */\n",
       "  background-color: var(--sklearn-color-fitted-level-3);\n",
       "  color: var(--sklearn-color-background);\n",
       "  text-decoration: none;\n",
       "}\n",
       "\n",
       "/* Span, style for the box shown on hovering the info icon */\n",
       ".sk-estimator-doc-link span {\n",
       "  display: none;\n",
       "  z-index: 9999;\n",
       "  position: relative;\n",
       "  font-weight: normal;\n",
       "  right: .2ex;\n",
       "  padding: .5ex;\n",
       "  margin: .5ex;\n",
       "  width: min-content;\n",
       "  min-width: 20ex;\n",
       "  max-width: 50ex;\n",
       "  color: var(--sklearn-color-text);\n",
       "  box-shadow: 2pt 2pt 4pt #999;\n",
       "  /* unfitted */\n",
       "  background: var(--sklearn-color-unfitted-level-0);\n",
       "  border: .5pt solid var(--sklearn-color-unfitted-level-3);\n",
       "}\n",
       "\n",
       ".sk-estimator-doc-link.fitted span {\n",
       "  /* fitted */\n",
       "  background: var(--sklearn-color-fitted-level-0);\n",
       "  border: var(--sklearn-color-fitted-level-3);\n",
       "}\n",
       "\n",
       ".sk-estimator-doc-link:hover span {\n",
       "  display: block;\n",
       "}\n",
       "\n",
       "/* \"?\"-specific style due to the `<a>` HTML tag */\n",
       "\n",
       "#sk-container-id-1 a.estimator_doc_link {\n",
       "  float: right;\n",
       "  font-size: 1rem;\n",
       "  line-height: 1em;\n",
       "  font-family: monospace;\n",
       "  background-color: var(--sklearn-color-background);\n",
       "  border-radius: 1rem;\n",
       "  height: 1rem;\n",
       "  width: 1rem;\n",
       "  text-decoration: none;\n",
       "  /* unfitted */\n",
       "  color: var(--sklearn-color-unfitted-level-1);\n",
       "  border: var(--sklearn-color-unfitted-level-1) 1pt solid;\n",
       "}\n",
       "\n",
       "#sk-container-id-1 a.estimator_doc_link.fitted {\n",
       "  /* fitted */\n",
       "  border: var(--sklearn-color-fitted-level-1) 1pt solid;\n",
       "  color: var(--sklearn-color-fitted-level-1);\n",
       "}\n",
       "\n",
       "/* On hover */\n",
       "#sk-container-id-1 a.estimator_doc_link:hover {\n",
       "  /* unfitted */\n",
       "  background-color: var(--sklearn-color-unfitted-level-3);\n",
       "  color: var(--sklearn-color-background);\n",
       "  text-decoration: none;\n",
       "}\n",
       "\n",
       "#sk-container-id-1 a.estimator_doc_link.fitted:hover {\n",
       "  /* fitted */\n",
       "  background-color: var(--sklearn-color-fitted-level-3);\n",
       "}\n",
       "</style><div id=\"sk-container-id-1\" class=\"sk-top-container\"><div class=\"sk-text-repr-fallback\"><pre>Pipeline(steps=[(&#x27;preprocessor&#x27;,\n",
       "                 ColumnTransformer(transformers=[(&#x27;num&#x27;,\n",
       "                                                  Pipeline(steps=[(&#x27;imputer&#x27;,\n",
       "                                                                   KNNImputer(n_neighbors=6)),\n",
       "                                                                  (&#x27;scaler&#x27;,\n",
       "                                                                   StandardScaler())]),\n",
       "                                                  [&#x27;PaymentTier&#x27;, &#x27;Age&#x27;,\n",
       "                                                   &#x27;ExperienceInCurrentDomain&#x27;]),\n",
       "                                                 (&#x27;cat&#x27;,\n",
       "                                                  Pipeline(steps=[(&#x27;imputer&#x27;,\n",
       "                                                                   SimpleImputer(fill_value=&#x27;missing&#x27;,\n",
       "                                                                                 strategy=&#x27;constant&#x27;)),\n",
       "                                                                  (&#x27;onehot&#x27;,\n",
       "                                                                   OneHotEncoder(handle_unknown=&#x27;ignore&#x27;))]),\n",
       "                                                  [&#x27;Education&#x27;, &#x27;City&#x27;,\n",
       "                                                   &#x27;Gender&#x27;,\n",
       "                                                   &#x27;EverBenched&#x27;])])),\n",
       "                (&#x27;classifier&#x27;, LogisticRegression(max_iter=1000))])</pre><b>In a Jupyter environment, please rerun this cell to show the HTML representation or trust the notebook. <br />On GitHub, the HTML representation is unable to render, please try loading this page with nbviewer.org.</b></div><div class=\"sk-container\" hidden><div class=\"sk-item sk-dashed-wrapped\"><div class=\"sk-label-container\"><div class=\"sk-label fitted sk-toggleable\"><input class=\"sk-toggleable__control sk-hidden--visually\" id=\"sk-estimator-id-1\" type=\"checkbox\" ><label for=\"sk-estimator-id-1\" class=\"sk-toggleable__label fitted sk-toggleable__label-arrow\"><div><div>Pipeline</div></div><div><a class=\"sk-estimator-doc-link fitted\" rel=\"noreferrer\" target=\"_blank\" href=\"https://scikit-learn.org/1.6/modules/generated/sklearn.pipeline.Pipeline.html\">?<span>Documentation for Pipeline</span></a><span class=\"sk-estimator-doc-link fitted\">i<span>Fitted</span></span></div></label><div class=\"sk-toggleable__content fitted\"><pre>Pipeline(steps=[(&#x27;preprocessor&#x27;,\n",
       "                 ColumnTransformer(transformers=[(&#x27;num&#x27;,\n",
       "                                                  Pipeline(steps=[(&#x27;imputer&#x27;,\n",
       "                                                                   KNNImputer(n_neighbors=6)),\n",
       "                                                                  (&#x27;scaler&#x27;,\n",
       "                                                                   StandardScaler())]),\n",
       "                                                  [&#x27;PaymentTier&#x27;, &#x27;Age&#x27;,\n",
       "                                                   &#x27;ExperienceInCurrentDomain&#x27;]),\n",
       "                                                 (&#x27;cat&#x27;,\n",
       "                                                  Pipeline(steps=[(&#x27;imputer&#x27;,\n",
       "                                                                   SimpleImputer(fill_value=&#x27;missing&#x27;,\n",
       "                                                                                 strategy=&#x27;constant&#x27;)),\n",
       "                                                                  (&#x27;onehot&#x27;,\n",
       "                                                                   OneHotEncoder(handle_unknown=&#x27;ignore&#x27;))]),\n",
       "                                                  [&#x27;Education&#x27;, &#x27;City&#x27;,\n",
       "                                                   &#x27;Gender&#x27;,\n",
       "                                                   &#x27;EverBenched&#x27;])])),\n",
       "                (&#x27;classifier&#x27;, LogisticRegression(max_iter=1000))])</pre></div> </div></div><div class=\"sk-serial\"><div class=\"sk-item sk-dashed-wrapped\"><div class=\"sk-label-container\"><div class=\"sk-label fitted sk-toggleable\"><input class=\"sk-toggleable__control sk-hidden--visually\" id=\"sk-estimator-id-2\" type=\"checkbox\" ><label for=\"sk-estimator-id-2\" class=\"sk-toggleable__label fitted sk-toggleable__label-arrow\"><div><div>preprocessor: ColumnTransformer</div></div><div><a class=\"sk-estimator-doc-link fitted\" rel=\"noreferrer\" target=\"_blank\" href=\"https://scikit-learn.org/1.6/modules/generated/sklearn.compose.ColumnTransformer.html\">?<span>Documentation for preprocessor: ColumnTransformer</span></a></div></label><div class=\"sk-toggleable__content fitted\"><pre>ColumnTransformer(transformers=[(&#x27;num&#x27;,\n",
       "                                 Pipeline(steps=[(&#x27;imputer&#x27;,\n",
       "                                                  KNNImputer(n_neighbors=6)),\n",
       "                                                 (&#x27;scaler&#x27;, StandardScaler())]),\n",
       "                                 [&#x27;PaymentTier&#x27;, &#x27;Age&#x27;,\n",
       "                                  &#x27;ExperienceInCurrentDomain&#x27;]),\n",
       "                                (&#x27;cat&#x27;,\n",
       "                                 Pipeline(steps=[(&#x27;imputer&#x27;,\n",
       "                                                  SimpleImputer(fill_value=&#x27;missing&#x27;,\n",
       "                                                                strategy=&#x27;constant&#x27;)),\n",
       "                                                 (&#x27;onehot&#x27;,\n",
       "                                                  OneHotEncoder(handle_unknown=&#x27;ignore&#x27;))]),\n",
       "                                 [&#x27;Education&#x27;, &#x27;City&#x27;, &#x27;Gender&#x27;,\n",
       "                                  &#x27;EverBenched&#x27;])])</pre></div> </div></div><div class=\"sk-parallel\"><div class=\"sk-parallel-item\"><div class=\"sk-item\"><div class=\"sk-label-container\"><div class=\"sk-label fitted sk-toggleable\"><input class=\"sk-toggleable__control sk-hidden--visually\" id=\"sk-estimator-id-3\" type=\"checkbox\" ><label for=\"sk-estimator-id-3\" class=\"sk-toggleable__label fitted sk-toggleable__label-arrow\"><div><div>num</div></div></label><div class=\"sk-toggleable__content fitted\"><pre>[&#x27;PaymentTier&#x27;, &#x27;Age&#x27;, &#x27;ExperienceInCurrentDomain&#x27;]</pre></div> </div></div><div class=\"sk-serial\"><div class=\"sk-item\"><div class=\"sk-serial\"><div class=\"sk-item\"><div class=\"sk-estimator fitted sk-toggleable\"><input class=\"sk-toggleable__control sk-hidden--visually\" id=\"sk-estimator-id-4\" type=\"checkbox\" ><label for=\"sk-estimator-id-4\" class=\"sk-toggleable__label fitted sk-toggleable__label-arrow\"><div><div>KNNImputer</div></div><div><a class=\"sk-estimator-doc-link fitted\" rel=\"noreferrer\" target=\"_blank\" href=\"https://scikit-learn.org/1.6/modules/generated/sklearn.impute.KNNImputer.html\">?<span>Documentation for KNNImputer</span></a></div></label><div class=\"sk-toggleable__content fitted\"><pre>KNNImputer(n_neighbors=6)</pre></div> </div></div><div class=\"sk-item\"><div class=\"sk-estimator fitted sk-toggleable\"><input class=\"sk-toggleable__control sk-hidden--visually\" id=\"sk-estimator-id-5\" type=\"checkbox\" ><label for=\"sk-estimator-id-5\" class=\"sk-toggleable__label fitted sk-toggleable__label-arrow\"><div><div>StandardScaler</div></div><div><a class=\"sk-estimator-doc-link fitted\" rel=\"noreferrer\" target=\"_blank\" href=\"https://scikit-learn.org/1.6/modules/generated/sklearn.preprocessing.StandardScaler.html\">?<span>Documentation for StandardScaler</span></a></div></label><div class=\"sk-toggleable__content fitted\"><pre>StandardScaler()</pre></div> </div></div></div></div></div></div></div><div class=\"sk-parallel-item\"><div class=\"sk-item\"><div class=\"sk-label-container\"><div class=\"sk-label fitted sk-toggleable\"><input class=\"sk-toggleable__control sk-hidden--visually\" id=\"sk-estimator-id-6\" type=\"checkbox\" ><label for=\"sk-estimator-id-6\" class=\"sk-toggleable__label fitted sk-toggleable__label-arrow\"><div><div>cat</div></div></label><div class=\"sk-toggleable__content fitted\"><pre>[&#x27;Education&#x27;, &#x27;City&#x27;, &#x27;Gender&#x27;, &#x27;EverBenched&#x27;]</pre></div> </div></div><div class=\"sk-serial\"><div class=\"sk-item\"><div class=\"sk-serial\"><div class=\"sk-item\"><div class=\"sk-estimator fitted sk-toggleable\"><input class=\"sk-toggleable__control sk-hidden--visually\" id=\"sk-estimator-id-7\" type=\"checkbox\" ><label for=\"sk-estimator-id-7\" class=\"sk-toggleable__label fitted sk-toggleable__label-arrow\"><div><div>SimpleImputer</div></div><div><a class=\"sk-estimator-doc-link fitted\" rel=\"noreferrer\" target=\"_blank\" href=\"https://scikit-learn.org/1.6/modules/generated/sklearn.impute.SimpleImputer.html\">?<span>Documentation for SimpleImputer</span></a></div></label><div class=\"sk-toggleable__content fitted\"><pre>SimpleImputer(fill_value=&#x27;missing&#x27;, strategy=&#x27;constant&#x27;)</pre></div> </div></div><div class=\"sk-item\"><div class=\"sk-estimator fitted sk-toggleable\"><input class=\"sk-toggleable__control sk-hidden--visually\" id=\"sk-estimator-id-8\" type=\"checkbox\" ><label for=\"sk-estimator-id-8\" class=\"sk-toggleable__label fitted sk-toggleable__label-arrow\"><div><div>OneHotEncoder</div></div><div><a class=\"sk-estimator-doc-link fitted\" rel=\"noreferrer\" target=\"_blank\" href=\"https://scikit-learn.org/1.6/modules/generated/sklearn.preprocessing.OneHotEncoder.html\">?<span>Documentation for OneHotEncoder</span></a></div></label><div class=\"sk-toggleable__content fitted\"><pre>OneHotEncoder(handle_unknown=&#x27;ignore&#x27;)</pre></div> </div></div></div></div></div></div></div></div></div><div class=\"sk-item\"><div class=\"sk-estimator fitted sk-toggleable\"><input class=\"sk-toggleable__control sk-hidden--visually\" id=\"sk-estimator-id-9\" type=\"checkbox\" ><label for=\"sk-estimator-id-9\" class=\"sk-toggleable__label fitted sk-toggleable__label-arrow\"><div><div>LogisticRegression</div></div><div><a class=\"sk-estimator-doc-link fitted\" rel=\"noreferrer\" target=\"_blank\" href=\"https://scikit-learn.org/1.6/modules/generated/sklearn.linear_model.LogisticRegression.html\">?<span>Documentation for LogisticRegression</span></a></div></label><div class=\"sk-toggleable__content fitted\"><pre>LogisticRegression(max_iter=1000)</pre></div> </div></div></div></div></div></div>"
      ],
      "text/plain": [
       "Pipeline(steps=[('preprocessor',\n",
       "                 ColumnTransformer(transformers=[('num',\n",
       "                                                  Pipeline(steps=[('imputer',\n",
       "                                                                   KNNImputer(n_neighbors=6)),\n",
       "                                                                  ('scaler',\n",
       "                                                                   StandardScaler())]),\n",
       "                                                  ['PaymentTier', 'Age',\n",
       "                                                   'ExperienceInCurrentDomain']),\n",
       "                                                 ('cat',\n",
       "                                                  Pipeline(steps=[('imputer',\n",
       "                                                                   SimpleImputer(fill_value='missing',\n",
       "                                                                                 strategy='constant')),\n",
       "                                                                  ('onehot',\n",
       "                                                                   OneHotEncoder(handle_unknown='ignore'))]),\n",
       "                                                  ['Education', 'City',\n",
       "                                                   'Gender',\n",
       "                                                   'EverBenched'])])),\n",
       "                ('classifier', LogisticRegression(max_iter=1000))])"
      ]
     },
     "execution_count": 81,
     "metadata": {},
     "output_type": "execute_result"
    }
   ],
   "source": [
    "# Training the model\n",
    "model_df.fit(X_train, y_train)"
   ]
  },
  {
   "cell_type": "code",
   "execution_count": 83,
   "id": "e6e616a4-218c-4136-a85c-c290f14b5018",
   "metadata": {},
   "outputs": [],
   "source": [
    "# test data predictions\n",
    "y_pred = model_df.predict(X_test)"
   ]
  },
  {
   "cell_type": "code",
   "execution_count": 85,
   "id": "c068d45a-64b9-432c-90da-07addfdae375",
   "metadata": {},
   "outputs": [
    {
     "data": {
      "text/plain": [
       "0.7443609022556391"
      ]
     },
     "execution_count": 85,
     "metadata": {},
     "output_type": "execute_result"
    }
   ],
   "source": [
    "# Evaluation\n",
    "accuracy = accuracy_score(y_test, y_pred)\n",
    "accuracy"
   ]
  },
  {
   "cell_type": "markdown",
   "id": "95a96631-4a9e-4265-966a-bb940aed9b1a",
   "metadata": {},
   "source": [
    "## Analyzing the model coefficients"
   ]
  },
  {
   "cell_type": "code",
   "execution_count": 88,
   "id": "389e5abe-2e6e-43c8-b3ba-eee879fc1e0b",
   "metadata": {},
   "outputs": [],
   "source": [
    "coefficients = model_df.named_steps['classifier'].coef_[0]"
   ]
  },
  {
   "cell_type": "code",
   "execution_count": 90,
   "id": "78dca221-b34e-432d-af37-cf4b6d932a44",
   "metadata": {},
   "outputs": [
    {
     "data": {
      "text/plain": [
       "['PaymentTier',\n",
       " 'Age',\n",
       " 'ExperienceInCurrentDomain',\n",
       " 'Education_Bachelors',\n",
       " 'Education_Masters',\n",
       " 'Education_PHD',\n",
       " 'City_Bangalore',\n",
       " 'City_New Delhi',\n",
       " 'City_Pune',\n",
       " 'Gender_Female',\n",
       " 'Gender_Male',\n",
       " 'EverBenched_No',\n",
       " 'EverBenched_Yes']"
      ]
     },
     "execution_count": 90,
     "metadata": {},
     "output_type": "execute_result"
    }
   ],
   "source": [
    "# Attribute names\n",
    "feature_names = num_features + list(model_df.named_steps['preprocessor'] \\\n",
    "                                    .transformers_[1][1].named_steps['onehot'].get_feature_names_out(cat_features))\n",
    "\n",
    "feature_names"
   ]
  },
  {
   "cell_type": "code",
   "execution_count": 94,
   "id": "87d982f2-93c4-48c7-889a-ae490099046c",
   "metadata": {},
   "outputs": [
    {
     "data": {
      "text/html": [
       "<div>\n",
       "<style scoped>\n",
       "    .dataframe tbody tr th:only-of-type {\n",
       "        vertical-align: middle;\n",
       "    }\n",
       "\n",
       "    .dataframe tbody tr th {\n",
       "        vertical-align: top;\n",
       "    }\n",
       "\n",
       "    .dataframe thead th {\n",
       "        text-align: right;\n",
       "    }\n",
       "</style>\n",
       "<table border=\"1\" class=\"dataframe\">\n",
       "  <thead>\n",
       "    <tr style=\"text-align: right;\">\n",
       "      <th></th>\n",
       "      <th>Attribute</th>\n",
       "      <th>Coefficient</th>\n",
       "    </tr>\n",
       "  </thead>\n",
       "  <tbody>\n",
       "    <tr>\n",
       "      <th>8</th>\n",
       "      <td>City_Pune</td>\n",
       "      <td>0.592030</td>\n",
       "    </tr>\n",
       "    <tr>\n",
       "      <th>4</th>\n",
       "      <td>Education_Masters</td>\n",
       "      <td>0.533552</td>\n",
       "    </tr>\n",
       "    <tr>\n",
       "      <th>9</th>\n",
       "      <td>Gender_Female</td>\n",
       "      <td>0.387371</td>\n",
       "    </tr>\n",
       "    <tr>\n",
       "      <th>12</th>\n",
       "      <td>EverBenched_Yes</td>\n",
       "      <td>0.256822</td>\n",
       "    </tr>\n",
       "    <tr>\n",
       "      <th>2</th>\n",
       "      <td>ExperienceInCurrentDomain</td>\n",
       "      <td>-0.081826</td>\n",
       "    </tr>\n",
       "    <tr>\n",
       "      <th>1</th>\n",
       "      <td>Age</td>\n",
       "      <td>-0.085286</td>\n",
       "    </tr>\n",
       "    <tr>\n",
       "      <th>6</th>\n",
       "      <td>City_Bangalore</td>\n",
       "      <td>-0.126285</td>\n",
       "    </tr>\n",
       "    <tr>\n",
       "      <th>0</th>\n",
       "      <td>PaymentTier</td>\n",
       "      <td>-0.202916</td>\n",
       "    </tr>\n",
       "    <tr>\n",
       "      <th>5</th>\n",
       "      <td>Education_PHD</td>\n",
       "      <td>-0.296749</td>\n",
       "    </tr>\n",
       "    <tr>\n",
       "      <th>3</th>\n",
       "      <td>Education_Bachelors</td>\n",
       "      <td>-0.325654</td>\n",
       "    </tr>\n",
       "  </tbody>\n",
       "</table>\n",
       "</div>"
      ],
      "text/plain": [
       "                    Attribute  Coefficient\n",
       "8                   City_Pune     0.592030\n",
       "4           Education_Masters     0.533552\n",
       "9               Gender_Female     0.387371\n",
       "12            EverBenched_Yes     0.256822\n",
       "2   ExperienceInCurrentDomain    -0.081826\n",
       "1                         Age    -0.085286\n",
       "6              City_Bangalore    -0.126285\n",
       "0                 PaymentTier    -0.202916\n",
       "5               Education_PHD    -0.296749\n",
       "3         Education_Bachelors    -0.325654"
      ]
     },
     "execution_count": 94,
     "metadata": {},
     "output_type": "execute_result"
    }
   ],
   "source": [
    "# Dataframe\n",
    "coeff_df = pd.DataFrame({'Attribute': feature_names, 'Coefficient': coefficients}).sort_values(by = 'Coefficient', ascending = False)\n",
    "# Display\n",
    "coeff_df.head(10)"
   ]
  },
  {
   "cell_type": "markdown",
   "id": "76a804c0-f7ce-4719-924d-a7c1970a82bf",
   "metadata": {},
   "source": [
    "## 8. Analyzing the model coefficients"
   ]
  },
  {
   "cell_type": "code",
   "execution_count": 96,
   "id": "332cf2a0-5251-4c28-8630-78e2e2ec94da",
   "metadata": {},
   "outputs": [
    {
     "data": {
      "image/png": "[encoded data removed]",
      "text/plain": [
       "<Figure size 1000x600 with 1 Axes>"
      ]
     },
     "metadata": {},
     "output_type": "display_data"
    }
   ],
   "source": [
    "attributes = [\n",
    "    \"City_Pune\", \"Education_Masters\", \"Gender_Female\", \n",
    "    \"EverBenched_Yes\", \"ExperienceInCurrentDomain\", \"Age\",\n",
    "    \"City_Bangalore\", \"PaymentTier\", \"Education_PHD\", \"Education_Bachelors\"\n",
    "]\n",
    "coefficients = [\n",
    "    0.621877, 0.436678, 0.396845, 0.371811, 0.221640,\n",
    "    -0.071376, -0.093341, -0.116943, -0.183141, -0.258226\n",
    "]\n",
    "\n",
    "attributes = attributes[::-1]\n",
    "coefficients = coefficients[::-1]\n",
    "\n",
    "plt.figure(figsize=(10, 6))\n",
    "bars = plt.barh(attributes, coefficients, color=['red' if x > 0 else 'green' for x in coefficients])\n",
    "plt.xlabel('Coefficient')\n",
    "plt.title('')\n",
    "\n",
    "\n",
    "for bar in bars:\n",
    "    width = bar.get_width()\n",
    "    plt.text(width + 0.01 if width > 0 else width - 0.05, bar.get_y() + bar.get_height()/2,\n",
    "             f'{width:.3f}', va='center')\n",
    "\n",
    "plt.grid(axis='x')\n",
    "plt.show()"
   ]
  },
  {
   "cell_type": "markdown",
   "id": "216a7518-ff05-4ebc-8559-df5008e6b286",
   "metadata": {},
   "source": [
    "# Analysis of The Results\n",
    "\n",
    "| Attribute               | Coefficient | Interpretation                                                                                           |\n",
    "|------------------------|-------------|--------------------------------------------------------------------------------------------------------|\n",
    "| City_Pune (0.62)       | +0.62       | People living in Pune are more likely to voluntarily resign.                                           |\n",
    "| Education_Masters (0.44) | +0.44       | People with a master's degree also tend to leave the company.                                         |\n",
    "| Gender_Female (0.40)   | +0.40       | Being female is also associated with this phenomenon. We previously observed that females are the most disadvantaged in terms of salary. |\n",
    "| EverBenched_Yes (0.22) | +0.37       | Having been \"benched\" (without a task) is positively associated, though with a smaller impact.         |\n",
    "| ExperienceInCurrentDomain +0.22  | The greater the employee's experience in the domain, the higher the probability of resignation.       |\n",
    "| Age (-0.09)            | -0.07       | Age has a negative effect. The older the employee, the lower the probability of resignation.           |\n",
    "| City_Bangalore (-0.12) | -0.09       | People from Bangalore tend to negatively impact the outcome.                                           |\n",
    "| PaymentTier (-0.18)    | -0.12       | A higher payment tier also contributes to greater employee retention.                                 |\n",
    "| Education_PHD (-0.26)  | -0.18       | Employees with a PhD (a smaller class) do not tend to resign.                                          |\n"
   ]
  },
  {
   "cell_type": "code",
   "execution_count": 100,
   "id": "6e14ad32-42be-4986-b011-44625c5a34a2",
   "metadata": {},
   "outputs": [
    {
     "name": "stdout",
     "output_type": "stream",
     "text": [
      "Author: Nuno Leite\n",
      "\n",
      "Python implementation: CPython\n",
      "Python version       : 3.12.7\n",
      "IPython version      : 8.27.0\n",
      "\n",
      "numpy       : 1.26.4\n",
      "pandas      : 2.2.3\n",
      "matplotlib  : 3.9.2\n",
      "seaborn     : 0.13.2\n",
      "scikit-learn: 1.6.1\n",
      "\n"
     ]
    }
   ],
   "source": [
    "%watermark -a \"Nuno Leite\" -d -t -v -p numpy,pandas,matplotlib,seaborn,scikit-learn"
   ]
  },
  {
   "cell_type": "code",
   "execution_count": null,
   "id": "49d84dc9-22d9-4738-bc93-eebd71efc473",
   "metadata": {},
   "outputs": [],
   "source": []
  }
 ],
 "metadata": {
  "kernelspec": {
   "display_name": "Python [conda env:base] *",
   "language": "python",
   "name": "conda-base-py"
  },
  "language_info": {
   "codemirror_mode": {
    "name": "ipython",
    "version": 3
   },
   "file_extension": ".py",
   "mimetype": "text/x-python",
   "name": "python",
   "nbconvert_exporter": "python",
   "pygments_lexer": "ipython3",
   "version": "3.12.7"
  }
 },
 "nbformat": 4,
 "nbformat_minor": 5
}
